{
  "nbformat": 4,
  "nbformat_minor": 0,
  "metadata": {
    "colab": {
      "provenance": [],
      "authorship_tag": "ABX9TyP/j/T7hUBdeJtEuMCAVjyx",
      "include_colab_link": true
    },
    "kernelspec": {
      "name": "python3",
      "display_name": "Python 3"
    },
    "language_info": {
      "name": "python"
    }
  },
  "cells": [
    {
      "cell_type": "markdown",
      "metadata": {
        "id": "view-in-github",
        "colab_type": "text"
      },
      "source": [
        "<a href=\"https://colab.research.google.com/github/ua-datalab/Geospatial_Workshops/blob/main/notebooks/STAC_crawl2.ipynb\" target=\"_parent\"><img src=\"https://colab.research.google.com/assets/colab-badge.svg\" alt=\"Open In Colab\"/></a>"
      ]
    },
    {
      "cell_type": "code",
      "execution_count": 1,
      "metadata": {
        "id": "Tjm8JImJqpig",
        "outputId": "0b183b92-680d-4176-d69d-a8ded75cc314",
        "colab": {
          "base_uri": "https://localhost:8080/"
        }
      },
      "outputs": [
        {
          "output_type": "stream",
          "name": "stdout",
          "text": [
            "\u001b[?25l     \u001b[90m━━━━━━━━━━━━━━━━━━━━━━━━━━━━━━━━━━━━━━━━\u001b[0m \u001b[32m0.0/181.6 kB\u001b[0m \u001b[31m?\u001b[0m eta \u001b[36m-:--:--\u001b[0m\r\u001b[2K     \u001b[91m━━━━━━━━━━━━━\u001b[0m\u001b[91m╸\u001b[0m\u001b[90m━━━━━━━━━━━━━━━━━━━━━━━━━━\u001b[0m \u001b[32m61.4/181.6 kB\u001b[0m \u001b[31m1.6 MB/s\u001b[0m eta \u001b[36m0:00:01\u001b[0m\r\u001b[2K     \u001b[90m━━━━━━━━━━━━━━━━━━━━━━━━━━━━━━━━━━━━━━━━\u001b[0m \u001b[32m181.6/181.6 kB\u001b[0m \u001b[31m3.1 MB/s\u001b[0m eta \u001b[36m0:00:00\u001b[0m\n",
            "\u001b[?25h"
          ]
        }
      ],
      "source": [
        "# Install pystac_client. This library is used to crawl SpatioTemporal Asset Catalogs (STAC)\n",
        "!pip install pystac_client --quiet\n",
        "!pip install planetary_computer --quiet"
      ]
    },
    {
      "cell_type": "code",
      "source": [
        "##Install library to work with raster images\n",
        "\n",
        "!pip install rasterio --quiet"
      ],
      "metadata": {
        "id": "iR6911YgtYMf",
        "outputId": "5a1e7bea-b360-4557-c9b8-1194b9efd386",
        "colab": {
          "base_uri": "https://localhost:8080/"
        }
      },
      "execution_count": 2,
      "outputs": [
        {
          "output_type": "stream",
          "name": "stdout",
          "text": [
            "\u001b[2K     \u001b[90m━━━━━━━━━━━━━━━━━━━━━━━━━━━━━━━━━━━━━━━━\u001b[0m \u001b[32m20.6/20.6 MB\u001b[0m \u001b[31m58.0 MB/s\u001b[0m eta \u001b[36m0:00:00\u001b[0m\n",
            "\u001b[?25h"
          ]
        }
      ]
    },
    {
      "cell_type": "code",
      "source": [
        "#Import the libraries into the current session\n",
        "\n",
        "import pystac_client\n",
        "import planetary_computer\n",
        "\n"
      ],
      "metadata": {
        "id": "j1mgkHQXq2Zz"
      },
      "execution_count": 3,
      "outputs": []
    },
    {
      "cell_type": "code",
      "source": [
        "#Use the pystac_client library to open the Planetary Computer STAC API\n",
        "\n",
        "catalog = pystac_client.Client.open(\n",
        "    \"https://planetarycomputer.microsoft.com/api/stac/v1\",\n",
        "    modifier=planetary_computer.sign_inplace,\n",
        ")"
      ],
      "metadata": {
        "id": "o19dpMN8lqnd"
      },
      "execution_count": 4,
      "outputs": []
    },
    {
      "cell_type": "code",
      "source": [
        "#Let's look at the collections within the root catalog\n",
        "collections = list(catalog.get_collections())\n",
        "\n",
        "# Print the number of collections\n",
        "print(f\"Number of collections in the base catalog: {len(collections)}\")"
      ],
      "metadata": {
        "id": "1-iYtjUcxeZ9",
        "outputId": "552bd7ca-38ab-4e31-d8f1-4771254b6d3b",
        "colab": {
          "base_uri": "https://localhost:8080/"
        }
      },
      "execution_count": 5,
      "outputs": [
        {
          "output_type": "stream",
          "name": "stdout",
          "text": [
            "Number of collections in the base catalog: 123\n"
          ]
        }
      ]
    },
    {
      "cell_type": "code",
      "source": [
        "# Print the names (or IDs) and descriptions of each collection\n",
        "for collection in collections:\n",
        "    print(f\"ID: {collection.id}\")\n",
        "    print(f\"Title: {collection.title}\")"
      ],
      "metadata": {
        "id": "_7VSiqNJocIY",
        "outputId": "f5f2aa86-f824-4fcb-a743-3194f029809f",
        "colab": {
          "base_uri": "https://localhost:8080/"
        }
      },
      "execution_count": 10,
      "outputs": [
        {
          "output_type": "stream",
          "name": "stdout",
          "text": [
            "ID: daymet-annual-pr\n",
            "Title: Daymet Annual Puerto Rico\n",
            "ID: daymet-daily-hi\n",
            "Title: Daymet Daily Hawaii\n",
            "ID: 3dep-seamless\n",
            "Title: USGS 3DEP Seamless DEMs\n",
            "ID: 3dep-lidar-dsm\n",
            "Title: USGS 3DEP Lidar Digital Surface Model\n",
            "ID: fia\n",
            "Title: Forest Inventory and Analysis\n",
            "ID: sentinel-1-rtc\n",
            "Title: Sentinel 1 Radiometrically Terrain Corrected (RTC)\n",
            "ID: gridmet\n",
            "Title: gridMET\n",
            "ID: daymet-annual-na\n",
            "Title: Daymet Annual North America\n",
            "ID: daymet-monthly-na\n",
            "Title: Daymet Monthly North America\n",
            "ID: daymet-annual-hi\n",
            "Title: Daymet Annual Hawaii\n",
            "ID: daymet-monthly-hi\n",
            "Title: Daymet Monthly Hawaii\n",
            "ID: daymet-monthly-pr\n",
            "Title: Daymet Monthly Puerto Rico\n",
            "ID: gnatsgo-tables\n",
            "Title: gNATSGO Soil Database - Tables\n",
            "ID: hgb\n",
            "Title: HGB: Harmonized Global Biomass for 2010\n",
            "ID: cop-dem-glo-30\n",
            "Title: Copernicus DEM GLO-30\n",
            "ID: cop-dem-glo-90\n",
            "Title: Copernicus DEM GLO-90\n",
            "ID: goes-cmi\n",
            "Title: GOES-R Cloud & Moisture Imagery\n",
            "ID: terraclimate\n",
            "Title: TerraClimate\n",
            "ID: nasa-nex-gddp-cmip6\n",
            "Title: Earth Exchange Global Daily Downscaled Projections (NEX-GDDP-CMIP6)\n",
            "ID: gpm-imerg-hhr\n",
            "Title: GPM IMERG\n",
            "ID: gnatsgo-rasters\n",
            "Title: gNATSGO Soil Database - Rasters\n",
            "ID: 3dep-lidar-hag\n",
            "Title: USGS 3DEP Lidar Height above Ground\n",
            "ID: io-lulc-annual-v02\n",
            "Title: 10m Annual Land Use Land Cover (9-class) V2\n",
            "ID: 3dep-lidar-intensity\n",
            "Title: USGS 3DEP Lidar Intensity\n",
            "ID: 3dep-lidar-pointsourceid\n",
            "Title: USGS 3DEP Lidar Point Source\n",
            "ID: mtbs\n",
            "Title: MTBS: Monitoring Trends in Burn Severity\n",
            "ID: noaa-c-cap\n",
            "Title: C-CAP Regional Land Cover and Change\n",
            "ID: 3dep-lidar-copc\n",
            "Title: USGS 3DEP Lidar Point Cloud\n",
            "ID: modis-64A1-061\n",
            "Title: MODIS Burned Area Monthly\n",
            "ID: alos-fnf-mosaic\n",
            "Title: ALOS Forest/Non-Forest Annual Mosaic\n",
            "ID: 3dep-lidar-returns\n",
            "Title: USGS 3DEP Lidar Returns\n",
            "ID: mobi\n",
            "Title: MoBI: Map of Biodiversity Importance\n",
            "ID: landsat-c2-l2\n",
            "Title: Landsat Collection 2 Level-2\n",
            "ID: era5-pds\n",
            "Title: ERA5 - PDS\n",
            "ID: chloris-biomass\n",
            "Title: Chloris Biomass\n",
            "ID: kaza-hydroforecast\n",
            "Title: HydroForecast - Kwando & Upper Zambezi Rivers\n",
            "ID: planet-nicfi-analytic\n",
            "Title: Planet-NICFI Basemaps (Analytic)\n",
            "ID: modis-17A2H-061\n",
            "Title: MODIS Gross Primary Productivity 8-Day\n",
            "ID: modis-11A2-061\n",
            "Title: MODIS Land Surface Temperature/Emissivity 8-Day\n",
            "ID: daymet-daily-pr\n",
            "Title: Daymet Daily Puerto Rico\n",
            "ID: 3dep-lidar-dtm-native\n",
            "Title: USGS 3DEP Lidar Digital Terrain Model (Native)\n",
            "ID: 3dep-lidar-classification\n",
            "Title: USGS 3DEP Lidar Classification\n",
            "ID: 3dep-lidar-dtm\n",
            "Title: USGS 3DEP Lidar Digital Terrain Model\n",
            "ID: gap\n",
            "Title: USGS Gap Land Cover\n",
            "ID: modis-17A2HGF-061\n",
            "Title: MODIS Gross Primary Productivity 8-Day Gap-Filled\n",
            "ID: planet-nicfi-visual\n",
            "Title: Planet-NICFI Basemaps (Visual)\n",
            "ID: gbif\n",
            "Title: Global Biodiversity Information Facility (GBIF)\n",
            "ID: modis-17A3HGF-061\n",
            "Title: MODIS Net Primary Production Yearly Gap-Filled\n",
            "ID: modis-09A1-061\n",
            "Title: MODIS Surface Reflectance 8-Day (500m)\n",
            "ID: alos-dem\n",
            "Title: ALOS World 3D-30m\n",
            "ID: alos-palsar-mosaic\n",
            "Title: ALOS PALSAR Annual Mosaic\n",
            "ID: deltares-water-availability\n",
            "Title: Deltares Global Water Availability\n",
            "ID: modis-16A3GF-061\n",
            "Title: MODIS Net Evapotranspiration Yearly Gap-Filled\n",
            "ID: modis-21A2-061\n",
            "Title: MODIS Land Surface Temperature/3-Band Emissivity 8-Day\n",
            "ID: us-census\n",
            "Title: US Census\n",
            "ID: jrc-gsw\n",
            "Title: JRC Global Surface Water\n",
            "ID: deltares-floods\n",
            "Title: Deltares Global Flood Maps\n",
            "ID: modis-43A4-061\n",
            "Title: MODIS Nadir BRDF-Adjusted Reflectance (NBAR) Daily\n",
            "ID: modis-09Q1-061\n",
            "Title: MODIS Surface Reflectance 8-Day (250m)\n",
            "ID: modis-14A1-061\n",
            "Title: MODIS Thermal Anomalies/Fire Daily\n",
            "ID: hrea\n",
            "Title: HREA: High Resolution Electricity Access\n",
            "ID: modis-13Q1-061\n",
            "Title: MODIS Vegetation Indices 16-Day (250m)\n",
            "ID: modis-14A2-061\n",
            "Title: MODIS Thermal Anomalies/Fire 8-Day\n",
            "ID: sentinel-2-l2a\n",
            "Title: Sentinel-2 Level-2A\n",
            "ID: modis-15A2H-061\n",
            "Title: MODIS Leaf Area Index/FPAR 8-Day\n",
            "ID: modis-11A1-061\n",
            "Title: MODIS Land Surface Temperature/Emissivity Daily\n",
            "ID: modis-15A3H-061\n",
            "Title: MODIS Leaf Area Index/FPAR 4-Day\n",
            "ID: modis-13A1-061\n",
            "Title: MODIS Vegetation Indices 16-Day (500m)\n",
            "ID: daymet-daily-na\n",
            "Title: Daymet Daily North America\n",
            "ID: nrcan-landcover\n",
            "Title: Land Cover of Canada\n",
            "ID: modis-10A2-061\n",
            "Title: MODIS Snow Cover 8-day\n",
            "ID: ecmwf-forecast\n",
            "Title: ECMWF Open Data (real-time)\n",
            "ID: noaa-mrms-qpe-24h-pass2\n",
            "Title: NOAA MRMS QPE 24-Hour Pass 2\n",
            "ID: sentinel-1-grd\n",
            "Title: Sentinel 1 Level-1 Ground Range Detected (GRD)\n",
            "ID: nasadem\n",
            "Title: NASADEM HGT v001\n",
            "ID: io-lulc\n",
            "Title: Esri 10-Meter Land Cover (10-class)\n",
            "ID: landsat-c2-l1\n",
            "Title: Landsat Collection 2 Level-1\n",
            "ID: drcog-lulc\n",
            "Title: Denver Regional Council of Governments Land Use Land Cover\n",
            "ID: chesapeake-lc-7\n",
            "Title: Chesapeake Land Cover (7-class)\n",
            "ID: chesapeake-lc-13\n",
            "Title: Chesapeake Land Cover (13-class)\n",
            "ID: chesapeake-lu\n",
            "Title: Chesapeake Land Use\n",
            "ID: noaa-mrms-qpe-1h-pass1\n",
            "Title: NOAA MRMS QPE 1-Hour Pass 1\n",
            "ID: noaa-mrms-qpe-1h-pass2\n",
            "Title: NOAA MRMS QPE 1-Hour Pass 2\n",
            "ID: noaa-nclimgrid-monthly\n",
            "Title: Monthly NOAA U.S. Climate Gridded Dataset (NClimGrid)\n",
            "ID: goes-glm\n",
            "Title: GOES-R Lightning Detection\n",
            "ID: usda-cdl\n",
            "Title: USDA Cropland Data Layers (CDLs)\n",
            "ID: eclipse\n",
            "Title: Urban Innovation Eclipse Sensor Data\n",
            "ID: esa-cci-lc\n",
            "Title: ESA Climate Change Initiative Land Cover Maps (Cloud Optimized GeoTIFF)\n",
            "ID: esa-cci-lc-netcdf\n",
            "Title: ESA Climate Change Initiative Land Cover Maps (NetCDF)\n",
            "ID: fws-nwi\n",
            "Title: FWS National Wetlands Inventory\n",
            "ID: usgs-lcmap-conus-v13\n",
            "Title: USGS LCMAP CONUS Collection 1.3\n",
            "ID: usgs-lcmap-hawaii-v10\n",
            "Title: USGS LCMAP Hawaii Collection 1.0\n",
            "ID: noaa-climate-normals-tabular\n",
            "Title: NOAA US Tabular Climate Normals\n",
            "ID: noaa-climate-normals-netcdf\n",
            "Title: NOAA US Gridded Climate Normals (NetCDF)\n",
            "ID: noaa-climate-normals-gridded\n",
            "Title: NOAA US Gridded Climate Normals (Cloud-Optimized GeoTIFF)\n",
            "ID: aster-l1t\n",
            "Title: ASTER L1T\n",
            "ID: cil-gdpcir-cc-by-sa\n",
            "Title: CIL Global Downscaled Projections for Climate Impacts Research (CC-BY-SA-4.0)\n",
            "ID: naip\n",
            "Title: NAIP: National Agriculture Imagery Program\n",
            "ID: io-lulc-9-class\n",
            "Title: 10m Annual Land Use Land Cover (9-class) V1\n",
            "ID: io-biodiversity\n",
            "Title: Biodiversity Intactness\n",
            "ID: noaa-cdr-sea-surface-temperature-whoi\n",
            "Title: Sea Surface Temperature - WHOI CDR\n",
            "ID: noaa-cdr-ocean-heat-content\n",
            "Title: Global Ocean Heat Content CDR\n",
            "ID: cil-gdpcir-cc0\n",
            "Title: CIL Global Downscaled Projections for Climate Impacts Research (CC0-1.0)\n",
            "ID: cil-gdpcir-cc-by\n",
            "Title: CIL Global Downscaled Projections for Climate Impacts Research (CC-BY-4.0)\n",
            "ID: noaa-cdr-sea-surface-temperature-whoi-netcdf\n",
            "Title: Sea Surface Temperature - WHOI CDR NetCDFs\n",
            "ID: noaa-cdr-sea-surface-temperature-optimum-interpolation\n",
            "Title: Sea Surface Temperature - Optimum Interpolation CDR\n",
            "ID: modis-10A1-061\n",
            "Title: MODIS Snow Cover Daily\n",
            "ID: sentinel-5p-l2-netcdf\n",
            "Title: Sentinel-5P Level-2\n",
            "ID: sentinel-3-olci-wfr-l2-netcdf\n",
            "Title: Sentinel-3 Water (Full Resolution)\n",
            "ID: noaa-cdr-ocean-heat-content-netcdf\n",
            "Title: Global Ocean Heat Content CDR NetCDFs\n",
            "ID: sentinel-3-synergy-aod-l2-netcdf\n",
            "Title: Sentinel-3 Global Aerosol\n",
            "ID: sentinel-3-synergy-v10-l2-netcdf\n",
            "Title: Sentinel-3 10-Day Surface Reflectance and NDVI (SPOT VEGETATION)\n",
            "ID: sentinel-3-olci-lfr-l2-netcdf\n",
            "Title: Sentinel-3 Land (Full Resolution)\n",
            "ID: sentinel-3-sral-lan-l2-netcdf\n",
            "Title: Sentinel-3 Land Radar Altimetry\n",
            "ID: sentinel-3-slstr-lst-l2-netcdf\n",
            "Title: Sentinel-3 Land Surface Temperature\n",
            "ID: sentinel-3-slstr-wst-l2-netcdf\n",
            "Title: Sentinel-3 Sea Surface Temperature\n",
            "ID: sentinel-3-sral-wat-l2-netcdf\n",
            "Title: Sentinel-3 Ocean Radar Altimetry\n",
            "ID: ms-buildings\n",
            "Title: Microsoft Building Footprints\n",
            "ID: sentinel-3-slstr-frp-l2-netcdf\n",
            "Title: Sentinel-3 Fire Radiative Power\n",
            "ID: sentinel-3-synergy-syn-l2-netcdf\n",
            "Title: Sentinel-3 Land Surface Reflectance and Aerosol\n",
            "ID: sentinel-3-synergy-vgp-l2-netcdf\n",
            "Title: Sentinel-3 Top of Atmosphere Reflectance (SPOT VEGETATION)\n",
            "ID: sentinel-3-synergy-vg1-l2-netcdf\n",
            "Title: Sentinel-3 1-Day Surface Reflectance and NDVI (SPOT VEGETATION)\n",
            "ID: esa-worldcover\n",
            "Title: ESA WorldCover\n"
          ]
        }
      ]
    },
    {
      "cell_type": "code",
      "source": [
        "#Create a custom spatial and temporal filter to find assets of interest\n",
        "\n",
        "time_range = \"2020-12-01/2020-12-31\"\n",
        "bbox = [-122.2751, 47.5469, -121.9613, 47.7458] #SW corner longitude/latitude ; NE corner longitude/latitude"
      ],
      "metadata": {
        "id": "iHRCMduYnXrZ"
      },
      "execution_count": 11,
      "outputs": []
    },
    {
      "cell_type": "code",
      "source": [
        "#Search the 'Landsat Collection' to find imagery assets within my time-range and bounding box.\n",
        "\n",
        "search = catalog.search(collections=[\"landsat-c2-l2\"], bbox=bbox, datetime=time_range)\n",
        "items = search.get_all_items()\n",
        "len(items)\n",
        "\n"
      ],
      "metadata": {
        "id": "scfnloHoq9Qa",
        "outputId": "a73373ae-3a51-44e5-c0a1-b21554676dd5",
        "colab": {
          "base_uri": "https://localhost:8080/"
        }
      },
      "execution_count": 12,
      "outputs": [
        {
          "output_type": "execute_result",
          "data": {
            "text/plain": [
              "8"
            ]
          },
          "metadata": {},
          "execution_count": 12
        }
      ]
    },
    {
      "cell_type": "code",
      "source": [
        "##Display the items in a table and show their characteristics\n",
        "\n",
        "#Use geopandas to make the table. It is already installed in Colab notebook\n",
        "\n",
        "import geopandas\n",
        "\n",
        "df = geopandas.GeoDataFrame.from_features(items.to_dict(), crs=\"epsg:4326\")\n",
        "df"
      ],
      "metadata": {
        "id": "2IeEzivjrDKq"
      },
      "execution_count": null,
      "outputs": []
    },
    {
      "cell_type": "code",
      "source": [
        "##Filter to find the item with the lowest cloud cover\n",
        "\n",
        "selected_item = min(items, key=lambda item: item.properties[\"eo:cloud_cover\"])\n",
        "print(selected_item)"
      ],
      "metadata": {
        "id": "YNtgpdPqrIaD",
        "outputId": "74b8d763-cd6c-43e9-c5e2-32fd6cc3ef93",
        "colab": {
          "base_uri": "https://localhost:8080/"
        }
      },
      "execution_count": 17,
      "outputs": [
        {
          "output_type": "stream",
          "name": "stdout",
          "text": [
            "<Item id=LC08_L2SP_047027_20201204_02_T1>\n"
          ]
        }
      ]
    },
    {
      "cell_type": "code",
      "source": [
        "# List all the assets and properties for the selected item\n",
        "\n",
        "assets_info = [\n",
        "    {\n",
        "        \"Asset Key\": asset_key,\n",
        "        \"Asset Title\": asset.title if hasattr(asset, \"title\") else \"N/A\",\n",
        "        \"Asset Type\": asset.media_type\n",
        "    }\n",
        "    for asset_key, asset in selected_item.assets.items()\n",
        "]\n",
        "\n",
        "# Create a GeoDataFrame from the assets information\n",
        "assets_gdf = geopandas.GeoDataFrame(assets_info)\n",
        "\n",
        "# Print the GeoDataFrame\n",
        "print(assets_gdf)"
      ],
      "metadata": {
        "id": "2F9TJxbwrUYY"
      },
      "execution_count": null,
      "outputs": []
    },
    {
      "cell_type": "code",
      "source": [
        "# List all the assets for the selected item\n",
        "\n",
        "import rich.table\n",
        "\n",
        "table = rich.table.Table(\"Asset Key\", \"Description\")\n",
        "for asset_key, asset in selected_item.assets.items():\n",
        "    table.add_row(asset_key, asset.title)\n",
        "\n",
        "table"
      ],
      "metadata": {
        "id": "cvBFVZRlrLJL",
        "outputId": "33de92b7-bd36-4a67-d8b2-47081bb36825",
        "colab": {
          "base_uri": "https://localhost:8080/",
          "height": 481
        }
      },
      "execution_count": 20,
      "outputs": [
        {
          "output_type": "execute_result",
          "data": {
            "text/plain": [
              "┏━━━━━━━━━━━━━━━━━━┳━━━━━━━━━━━━━━━━━━━━━━━━━━━━━━━━━━━━━━━━━━━━━━━━━━━━━━━━━━━━━━━━━━━━━━┓\n",
              "┃\u001b[1m \u001b[0m\u001b[1mAsset Key       \u001b[0m\u001b[1m \u001b[0m┃\u001b[1m \u001b[0m\u001b[1mDescription                                                         \u001b[0m\u001b[1m \u001b[0m┃\n",
              "┡━━━━━━━━━━━━━━━━━━╇━━━━━━━━━━━━━━━━━━━━━━━━━━━━━━━━━━━━━━━━━━━━━━━━━━━━━━━━━━━━━━━━━━━━━━┩\n",
              "│ qa               │ Surface Temperature Quality Assessment Band                          │\n",
              "│ ang              │ Angle Coefficients File                                              │\n",
              "│ red              │ Red Band                                                             │\n",
              "│ blue             │ Blue Band                                                            │\n",
              "│ drad             │ Downwelled Radiance Band                                             │\n",
              "│ emis             │ Emissivity Band                                                      │\n",
              "│ emsd             │ Emissivity Standard Deviation Band                                   │\n",
              "│ trad             │ Thermal Radiance Band                                                │\n",
              "│ urad             │ Upwelled Radiance Band                                               │\n",
              "│ atran            │ Atmospheric Transmittance Band                                       │\n",
              "│ cdist            │ Cloud Distance Band                                                  │\n",
              "│ green            │ Green Band                                                           │\n",
              "│ nir08            │ Near Infrared Band 0.8                                               │\n",
              "│ lwir11           │ Surface Temperature Band                                             │\n",
              "│ swir16           │ Short-wave Infrared Band 1.6                                         │\n",
              "│ swir22           │ Short-wave Infrared Band 2.2                                         │\n",
              "│ coastal          │ Coastal/Aerosol Band                                                 │\n",
              "│ mtl.txt          │ Product Metadata File (txt)                                          │\n",
              "│ mtl.xml          │ Product Metadata File (xml)                                          │\n",
              "│ mtl.json         │ Product Metadata File (json)                                         │\n",
              "│ qa_pixel         │ Pixel Quality Assessment Band                                        │\n",
              "│ qa_radsat        │ Radiometric Saturation and Terrain Occlusion Quality Assessment Band │\n",
              "│ qa_aerosol       │ Aerosol Quality Assessment Band                                      │\n",
              "│ tilejson         │ TileJSON with default rendering                                      │\n",
              "│ rendered_preview │ Rendered preview                                                     │\n",
              "└──────────────────┴──────────────────────────────────────────────────────────────────────┘\n"
            ],
            "text/html": [
              "<pre style=\"white-space:pre;overflow-x:auto;line-height:normal;font-family:Menlo,'DejaVu Sans Mono',consolas,'Courier New',monospace\">┏━━━━━━━━━━━━━━━━━━┳━━━━━━━━━━━━━━━━━━━━━━━━━━━━━━━━━━━━━━━━━━━━━━━━━━━━━━━━━━━━━━━━━━━━━━┓\n",
              "┃<span style=\"font-weight: bold\"> Asset Key        </span>┃<span style=\"font-weight: bold\"> Description                                                          </span>┃\n",
              "┡━━━━━━━━━━━━━━━━━━╇━━━━━━━━━━━━━━━━━━━━━━━━━━━━━━━━━━━━━━━━━━━━━━━━━━━━━━━━━━━━━━━━━━━━━━┩\n",
              "│ qa               │ Surface Temperature Quality Assessment Band                          │\n",
              "│ ang              │ Angle Coefficients File                                              │\n",
              "│ red              │ Red Band                                                             │\n",
              "│ blue             │ Blue Band                                                            │\n",
              "│ drad             │ Downwelled Radiance Band                                             │\n",
              "│ emis             │ Emissivity Band                                                      │\n",
              "│ emsd             │ Emissivity Standard Deviation Band                                   │\n",
              "│ trad             │ Thermal Radiance Band                                                │\n",
              "│ urad             │ Upwelled Radiance Band                                               │\n",
              "│ atran            │ Atmospheric Transmittance Band                                       │\n",
              "│ cdist            │ Cloud Distance Band                                                  │\n",
              "│ green            │ Green Band                                                           │\n",
              "│ nir08            │ Near Infrared Band 0.8                                               │\n",
              "│ lwir11           │ Surface Temperature Band                                             │\n",
              "│ swir16           │ Short-wave Infrared Band 1.6                                         │\n",
              "│ swir22           │ Short-wave Infrared Band 2.2                                         │\n",
              "│ coastal          │ Coastal/Aerosol Band                                                 │\n",
              "│ mtl.txt          │ Product Metadata File (txt)                                          │\n",
              "│ mtl.xml          │ Product Metadata File (xml)                                          │\n",
              "│ mtl.json         │ Product Metadata File (json)                                         │\n",
              "│ qa_pixel         │ Pixel Quality Assessment Band                                        │\n",
              "│ qa_radsat        │ Radiometric Saturation and Terrain Occlusion Quality Assessment Band │\n",
              "│ qa_aerosol       │ Aerosol Quality Assessment Band                                      │\n",
              "│ tilejson         │ TileJSON with default rendering                                      │\n",
              "│ rendered_preview │ Rendered preview                                                     │\n",
              "└──────────────────┴──────────────────────────────────────────────────────────────────────┘\n",
              "</pre>\n"
            ]
          },
          "metadata": {},
          "execution_count": 20
        }
      ]
    },
    {
      "cell_type": "code",
      "source": [
        "#Convert the 'rendered preview' asset into a dictionary\n",
        "\n",
        "selected_item.assets[\"rendered_preview\"].to_dict()"
      ],
      "metadata": {
        "colab": {
          "base_uri": "https://localhost:8080/"
        },
        "id": "qQG9ID8vrNmU",
        "outputId": "93b36ce5-9065-4b2f-a26d-f353bd39795d"
      },
      "execution_count": 26,
      "outputs": [
        {
          "output_type": "execute_result",
          "data": {
            "text/plain": [
              "{'href': 'https://planetarycomputer.microsoft.com/api/data/v1/item/preview.png?collection=landsat-c2-l2&item=LC08_L2SP_047027_20201204_02_T1&assets=red&assets=green&assets=blue&color_formula=gamma+RGB+2.7%2C+saturation+1.5%2C+sigmoidal+RGB+15+0.55&format=png',\n",
              " 'type': 'image/png',\n",
              " 'title': 'Rendered preview',\n",
              " 'rel': 'preview',\n",
              " 'roles': ['overview']}"
            ]
          },
          "metadata": {},
          "execution_count": 26
        }
      ]
    },
    {
      "cell_type": "code",
      "source": [
        "#Display the 'rendered preview' asset of the item\n",
        "\n",
        "from IPython.display import Image\n",
        "\n",
        "Image(url=selected_item.assets[\"rendered_preview\"].href, width=500)"
      ],
      "metadata": {
        "id": "qtNcgyyCrQuM",
        "outputId": "f69892b8-e213-4e03-cffd-b658fb32d977",
        "colab": {
          "base_uri": "https://localhost:8080/",
          "height": 528
        }
      },
      "execution_count": 23,
      "outputs": [
        {
          "output_type": "execute_result",
          "data": {
            "text/html": [
              "<img src=\"https://planetarycomputer.microsoft.com/api/data/v1/item/preview.png?collection=landsat-c2-l2&item=LC08_L2SP_047027_20201204_02_T1&assets=red&assets=green&assets=blue&color_formula=gamma+RGB+2.7%2C+saturation+1.5%2C+sigmoidal+RGB+15+0.55&format=png\" width=\"500\"/>"
            ],
            "text/plain": [
              "<IPython.core.display.Image object>"
            ]
          },
          "metadata": {},
          "execution_count": 23
        }
      ]
    },
    {
      "cell_type": "code",
      "source": [
        "#Get the API endpoint (url) of the 'blue' band asset.\n",
        "\n",
        "selected_item.assets[\"blue\"].href"
      ],
      "metadata": {
        "id": "hKheLwkUrjrv",
        "outputId": "8399bbac-7d5d-41f3-ffa8-e467c41c9146",
        "colab": {
          "base_uri": "https://localhost:8080/",
          "height": 87
        }
      },
      "execution_count": 27,
      "outputs": [
        {
          "output_type": "execute_result",
          "data": {
            "text/plain": [
              "'https://landsateuwest.blob.core.windows.net/landsat-c2/level-2/standard/oli-tirs/2020/047/027/LC08_L2SP_047027_20201204_20210313_02_T1/LC08_L2SP_047027_20201204_20210313_02_T1_SR_B2.TIF?st=2024-03-11T17%3A12%3A45Z&se=2024-03-12T17%3A57%3A45Z&sp=rl&sv=2021-06-08&sr=c&skoid=c85c15d6-d1ae-42d4-af60-e2ca0f81359b&sktid=72f988bf-86f1-41af-91ab-2d7cd011db47&skt=2024-03-12T08%3A40%3A24Z&ske=2024-03-19T08%3A40%3A24Z&sks=b&skv=2021-06-08&sig=NzhZGSIfsFLAu/GhBoP3%2BN%2B%2ByqXpOk935fX7WvrGTes%3D'"
            ],
            "application/vnd.google.colaboratory.intrinsic+json": {
              "type": "string"
            }
          },
          "metadata": {},
          "execution_count": 27
        }
      ]
    },
    {
      "cell_type": "code",
      "source": [
        "##Get some info from the asset without downloading it\n",
        "## Get response code, file type, file size\n",
        "## We are looking for HTTP status code of 200\n",
        "\n",
        "import requests\n",
        "\n",
        "# Send a HEAD request to get the headers of the file\n",
        "response = requests.head(selected_item.assets[\"blue\"].href)\n",
        "\n",
        "# Retrieve the status code\n",
        "status_code = response.status_code\n",
        "\n",
        "# Initialize variables for file type and size\n",
        "file_type = None\n",
        "file_size_mb = None\n",
        "\n",
        "# Check if the Content-Type header exists\n",
        "if 'Content-Type' in response.headers:\n",
        "    file_type = response.headers['Content-Type']\n",
        "\n",
        "# Check if the Content-Length header exists and convert it to megabytes\n",
        "if 'Content-Length' in response.headers:\n",
        "    file_size_bytes = int(response.headers['Content-Length'])\n",
        "    file_size_mb = file_size_bytes / (1024 * 1024)  # Convert bytes to megabytes\n",
        "\n",
        "print(f\"Status Code: {status_code}\")\n",
        "print(f\"File Type: {file_type}\")\n",
        "print(f\"File Size: {file_size_mb:.2f} MB\")\n"
      ],
      "metadata": {
        "id": "HGBt1KmZzTLL",
        "outputId": "1cb8a5b2-eb93-45d6-c8bd-67449c2fc772",
        "colab": {
          "base_uri": "https://localhost:8080/"
        }
      },
      "execution_count": 31,
      "outputs": [
        {
          "output_type": "stream",
          "name": "stdout",
          "text": [
            "Status Code: 200\n",
            "File Type: image/tiff\n",
            "File Size: 75.27 MB\n"
          ]
        }
      ]
    },
    {
      "cell_type": "code",
      "source": [
        "!pip install rioxarray --quiet"
      ],
      "metadata": {
        "id": "8_37wVYJuhte",
        "outputId": "6b6065a6-e649-41fb-e276-9b46a332ff81",
        "colab": {
          "base_uri": "https://localhost:8080/"
        }
      },
      "execution_count": 32,
      "outputs": [
        {
          "output_type": "stream",
          "name": "stdout",
          "text": [
            "Collecting rioxarray\n",
            "  Downloading rioxarray-0.15.1-py3-none-any.whl (53 kB)\n",
            "\u001b[?25l     \u001b[90m━━━━━━━━━━━━━━━━━━━━━━━━━━━━━━━━━━━━━━━━\u001b[0m \u001b[32m0.0/53.7 kB\u001b[0m \u001b[31m?\u001b[0m eta \u001b[36m-:--:--\u001b[0m\r\u001b[2K     \u001b[91m━━━━━━━━━━━━━━━━━━━━━━━━━━━━━━━━━━━━━━\u001b[0m\u001b[90m╺\u001b[0m\u001b[90m━\u001b[0m \u001b[32m51.2/53.7 kB\u001b[0m \u001b[31m1.3 MB/s\u001b[0m eta \u001b[36m0:00:01\u001b[0m\r\u001b[2K     \u001b[90m━━━━━━━━━━━━━━━━━━━━━━━━━━━━━━━━━━━━━━━━\u001b[0m \u001b[32m53.7/53.7 kB\u001b[0m \u001b[31m1.1 MB/s\u001b[0m eta \u001b[36m0:00:00\u001b[0m\n",
            "\u001b[?25hRequirement already satisfied: packaging in /usr/local/lib/python3.10/dist-packages (from rioxarray) (23.2)\n",
            "Requirement already satisfied: rasterio>=1.3 in /usr/local/lib/python3.10/dist-packages (from rioxarray) (1.3.9)\n",
            "Requirement already satisfied: xarray>=2022.3.0 in /usr/local/lib/python3.10/dist-packages (from rioxarray) (2023.7.0)\n",
            "Requirement already satisfied: pyproj>=3.3 in /usr/local/lib/python3.10/dist-packages (from rioxarray) (3.6.1)\n",
            "Requirement already satisfied: numpy>=1.23 in /usr/local/lib/python3.10/dist-packages (from rioxarray) (1.25.2)\n",
            "Requirement already satisfied: certifi in /usr/local/lib/python3.10/dist-packages (from pyproj>=3.3->rioxarray) (2024.2.2)\n",
            "Requirement already satisfied: affine in /usr/local/lib/python3.10/dist-packages (from rasterio>=1.3->rioxarray) (2.4.0)\n",
            "Requirement already satisfied: attrs in /usr/local/lib/python3.10/dist-packages (from rasterio>=1.3->rioxarray) (23.2.0)\n",
            "Requirement already satisfied: click>=4.0 in /usr/local/lib/python3.10/dist-packages (from rasterio>=1.3->rioxarray) (8.1.7)\n",
            "Requirement already satisfied: cligj>=0.5 in /usr/local/lib/python3.10/dist-packages (from rasterio>=1.3->rioxarray) (0.7.2)\n",
            "Requirement already satisfied: snuggs>=1.4.1 in /usr/local/lib/python3.10/dist-packages (from rasterio>=1.3->rioxarray) (1.4.7)\n",
            "Requirement already satisfied: click-plugins in /usr/local/lib/python3.10/dist-packages (from rasterio>=1.3->rioxarray) (1.1.1)\n",
            "Requirement already satisfied: setuptools in /usr/local/lib/python3.10/dist-packages (from rasterio>=1.3->rioxarray) (67.7.2)\n",
            "Requirement already satisfied: pandas>=1.4 in /usr/local/lib/python3.10/dist-packages (from xarray>=2022.3.0->rioxarray) (1.5.3)\n",
            "Requirement already satisfied: python-dateutil>=2.8.1 in /usr/local/lib/python3.10/dist-packages (from pandas>=1.4->xarray>=2022.3.0->rioxarray) (2.8.2)\n",
            "Requirement already satisfied: pytz>=2020.1 in /usr/local/lib/python3.10/dist-packages (from pandas>=1.4->xarray>=2022.3.0->rioxarray) (2023.4)\n",
            "Requirement already satisfied: pyparsing>=2.1.6 in /usr/local/lib/python3.10/dist-packages (from snuggs>=1.4.1->rasterio>=1.3->rioxarray) (3.1.2)\n",
            "Requirement already satisfied: six>=1.5 in /usr/local/lib/python3.10/dist-packages (from python-dateutil>=2.8.1->pandas>=1.4->xarray>=2022.3.0->rioxarray) (1.16.0)\n",
            "Installing collected packages: rioxarray\n",
            "Successfully installed rioxarray-0.15.1\n"
          ]
        }
      ]
    },
    {
      "cell_type": "code",
      "source": [
        "import rasterio\n",
        "from rasterio.plot import show\n",
        "import matplotlib.pyplot as plt\n",
        "import requests\n",
        "import numpy as np"
      ],
      "metadata": {
        "id": "SPoRF-M8tdKX"
      },
      "execution_count": null,
      "outputs": []
    },
    {
      "cell_type": "code",
      "source": [
        "import rioxarray\n",
        "\n",
        "ds = rioxarray.open_rasterio(\n",
        "    selected_item.assets[\"blue\"].href, overview_level=4\n",
        ").squeeze()\n",
        "img = ds.plot(cmap=\"Blues\", add_colorbar=False)\n",
        "img.axes.set_axis_off();"
      ],
      "metadata": {
        "id": "UKrEQbeeuDIz",
        "outputId": "69035c67-f595-47fc-eb26-dcf2b0edccc4",
        "colab": {
          "base_uri": "https://localhost:8080/",
          "height": 758
        }
      },
      "execution_count": 33,
      "outputs": [
        {
          "output_type": "stream",
          "name": "stderr",
          "text": [
            "WARNING:rasterio._env:CPLE_AppDefined in HTTP response code on https://landsateuwest.blob.core.windows.net/landsat-c2/level-2/standard/oli-tirs/2020/047/027/LC08_L2SP_047027_20201204_20210313_02_T1/LC08_L2SP_047027_20201204_20210313_02_T1_SR_B2.TIF?st=2024-03-11T17%3A12%3A45Z&se=2024-03-12T17%3A57%3A45Z&sp=rl&sv=2021-06-08&sr=c&skoid=c85c15d6-d1ae-42d4-af60-e2ca0f81359b&sktid=72f988bf-86f1-41af-91ab-2d7cd011db47&skt=2024-03-12T08%3A40%3A24Z&ske=2024-03-19T08%3A40%3A24Z&sks=b&skv=2021-06-08&sig=NzhZGSIfsFLAu/GhBoP3%2BN%2B%2ByqXpOk935fX7WvrGTes%3D.xml: 403\n"
          ]
        },
        {
          "output_type": "error",
          "ename": "RasterioIOError",
          "evalue": "HTTP response code: 403",
          "traceback": [
            "\u001b[0;31m---------------------------------------------------------------------------\u001b[0m",
            "\u001b[0;31mKeyError\u001b[0m                                  Traceback (most recent call last)",
            "\u001b[0;32m/usr/local/lib/python3.10/dist-packages/xarray/backends/file_manager.py\u001b[0m in \u001b[0;36m_acquire_with_cache_info\u001b[0;34m(self, needs_lock)\u001b[0m\n\u001b[1;32m    210\u001b[0m             \u001b[0;32mtry\u001b[0m\u001b[0;34m:\u001b[0m\u001b[0;34m\u001b[0m\u001b[0;34m\u001b[0m\u001b[0m\n\u001b[0;32m--> 211\u001b[0;31m                 \u001b[0mfile\u001b[0m \u001b[0;34m=\u001b[0m \u001b[0mself\u001b[0m\u001b[0;34m.\u001b[0m\u001b[0m_cache\u001b[0m\u001b[0;34m[\u001b[0m\u001b[0mself\u001b[0m\u001b[0;34m.\u001b[0m\u001b[0m_key\u001b[0m\u001b[0;34m]\u001b[0m\u001b[0;34m\u001b[0m\u001b[0;34m\u001b[0m\u001b[0m\n\u001b[0m\u001b[1;32m    212\u001b[0m             \u001b[0;32mexcept\u001b[0m \u001b[0mKeyError\u001b[0m\u001b[0;34m:\u001b[0m\u001b[0;34m\u001b[0m\u001b[0;34m\u001b[0m\u001b[0m\n",
            "\u001b[0;32m/usr/local/lib/python3.10/dist-packages/xarray/backends/lru_cache.py\u001b[0m in \u001b[0;36m__getitem__\u001b[0;34m(self, key)\u001b[0m\n\u001b[1;32m     55\u001b[0m         \u001b[0;32mwith\u001b[0m \u001b[0mself\u001b[0m\u001b[0;34m.\u001b[0m\u001b[0m_lock\u001b[0m\u001b[0;34m:\u001b[0m\u001b[0;34m\u001b[0m\u001b[0;34m\u001b[0m\u001b[0m\n\u001b[0;32m---> 56\u001b[0;31m             \u001b[0mvalue\u001b[0m \u001b[0;34m=\u001b[0m \u001b[0mself\u001b[0m\u001b[0;34m.\u001b[0m\u001b[0m_cache\u001b[0m\u001b[0;34m[\u001b[0m\u001b[0mkey\u001b[0m\u001b[0;34m]\u001b[0m\u001b[0;34m\u001b[0m\u001b[0;34m\u001b[0m\u001b[0m\n\u001b[0m\u001b[1;32m     57\u001b[0m             \u001b[0mself\u001b[0m\u001b[0;34m.\u001b[0m\u001b[0m_cache\u001b[0m\u001b[0;34m.\u001b[0m\u001b[0mmove_to_end\u001b[0m\u001b[0;34m(\u001b[0m\u001b[0mkey\u001b[0m\u001b[0;34m)\u001b[0m\u001b[0;34m\u001b[0m\u001b[0;34m\u001b[0m\u001b[0m\n",
            "\u001b[0;31mKeyError\u001b[0m: [<function open at 0x7aef6f937520>, ('https://landsateuwest.blob.core.windows.net/landsat-c2/level-2/standard/oli-tirs/2020/047/027/LC08_L2SP_047027_20201204_20210313_02_T1/LC08_L2SP_047027_20201204_20210313_02_T1_SR_B2.TIF?st=2024-03-11T17%3A12%3A45Z&se=2024-03-12T17%3A57%3A45Z&sp=rl&sv=2021-06-08&sr=c&skoid=c85c15d6-d1ae-42d4-af60-e2ca0f81359b&sktid=72f988bf-86f1-41af-91ab-2d7cd011db47&skt=2024-03-12T08%3A40%3A24Z&ske=2024-03-19T08%3A40%3A24Z&sks=b&skv=2021-06-08&sig=NzhZGSIfsFLAu/GhBoP3%2BN%2B%2ByqXpOk935fX7WvrGTes%3D',), 'r', (('overview_level', 4), ('sharing', False)), '530fcf45-9598-4754-af9e-b22680ab72fb']",
            "\nDuring handling of the above exception, another exception occurred:\n",
            "\u001b[0;31mCPLE_HttpResponseError\u001b[0m                    Traceback (most recent call last)",
            "\u001b[0;32mrasterio/_base.pyx\u001b[0m in \u001b[0;36mrasterio._base.DatasetBase.__init__\u001b[0;34m()\u001b[0m\n",
            "\u001b[0;32mrasterio/_base.pyx\u001b[0m in \u001b[0;36mrasterio._base.open_dataset\u001b[0;34m()\u001b[0m\n",
            "\u001b[0;32mrasterio/_err.pyx\u001b[0m in \u001b[0;36mrasterio._err.exc_wrap_pointer\u001b[0;34m()\u001b[0m\n",
            "\u001b[0;31mCPLE_HttpResponseError\u001b[0m: HTTP response code: 403",
            "\nDuring handling of the above exception, another exception occurred:\n",
            "\u001b[0;31mRasterioIOError\u001b[0m                           Traceback (most recent call last)",
            "\u001b[0;32m<ipython-input-33-b41c05becc46>\u001b[0m in \u001b[0;36m<cell line: 3>\u001b[0;34m()\u001b[0m\n\u001b[1;32m      1\u001b[0m \u001b[0;32mimport\u001b[0m \u001b[0mrioxarray\u001b[0m\u001b[0;34m\u001b[0m\u001b[0;34m\u001b[0m\u001b[0m\n\u001b[1;32m      2\u001b[0m \u001b[0;34m\u001b[0m\u001b[0m\n\u001b[0;32m----> 3\u001b[0;31m ds = rioxarray.open_rasterio(\n\u001b[0m\u001b[1;32m      4\u001b[0m     \u001b[0mselected_item\u001b[0m\u001b[0;34m.\u001b[0m\u001b[0massets\u001b[0m\u001b[0;34m[\u001b[0m\u001b[0;34m\"blue\"\u001b[0m\u001b[0;34m]\u001b[0m\u001b[0;34m.\u001b[0m\u001b[0mhref\u001b[0m\u001b[0;34m,\u001b[0m \u001b[0moverview_level\u001b[0m\u001b[0;34m=\u001b[0m\u001b[0;36m4\u001b[0m\u001b[0;34m\u001b[0m\u001b[0;34m\u001b[0m\u001b[0m\n\u001b[1;32m      5\u001b[0m ).squeeze()\n",
            "\u001b[0;32m/usr/local/lib/python3.10/dist-packages/rioxarray/_io.py\u001b[0m in \u001b[0;36mopen_rasterio\u001b[0;34m(filename, parse_coordinates, chunks, cache, lock, masked, mask_and_scale, variable, group, default_name, decode_times, decode_timedelta, band_as_variable, **open_kwargs)\u001b[0m\n\u001b[1;32m   1122\u001b[0m         \u001b[0;32melse\u001b[0m\u001b[0;34m:\u001b[0m\u001b[0;34m\u001b[0m\u001b[0;34m\u001b[0m\u001b[0m\n\u001b[1;32m   1123\u001b[0m             \u001b[0mmanager\u001b[0m \u001b[0;34m=\u001b[0m \u001b[0mURIManager\u001b[0m\u001b[0;34m(\u001b[0m\u001b[0mfile_opener\u001b[0m\u001b[0;34m,\u001b[0m \u001b[0mfilename\u001b[0m\u001b[0;34m,\u001b[0m \u001b[0mmode\u001b[0m\u001b[0;34m=\u001b[0m\u001b[0;34m\"r\"\u001b[0m\u001b[0;34m,\u001b[0m \u001b[0mkwargs\u001b[0m\u001b[0;34m=\u001b[0m\u001b[0mopen_kwargs\u001b[0m\u001b[0;34m)\u001b[0m\u001b[0;34m\u001b[0m\u001b[0;34m\u001b[0m\u001b[0m\n\u001b[0;32m-> 1124\u001b[0;31m         \u001b[0mriods\u001b[0m \u001b[0;34m=\u001b[0m \u001b[0mmanager\u001b[0m\u001b[0;34m.\u001b[0m\u001b[0macquire\u001b[0m\u001b[0;34m(\u001b[0m\u001b[0;34m)\u001b[0m\u001b[0;34m\u001b[0m\u001b[0;34m\u001b[0m\u001b[0m\n\u001b[0m\u001b[1;32m   1125\u001b[0m         \u001b[0mcaptured_warnings\u001b[0m \u001b[0;34m=\u001b[0m \u001b[0mrio_warnings\u001b[0m\u001b[0;34m.\u001b[0m\u001b[0mcopy\u001b[0m\u001b[0;34m(\u001b[0m\u001b[0;34m)\u001b[0m\u001b[0;34m\u001b[0m\u001b[0;34m\u001b[0m\u001b[0m\n\u001b[1;32m   1126\u001b[0m \u001b[0;34m\u001b[0m\u001b[0m\n",
            "\u001b[0;32m/usr/local/lib/python3.10/dist-packages/xarray/backends/file_manager.py\u001b[0m in \u001b[0;36macquire\u001b[0;34m(self, needs_lock)\u001b[0m\n\u001b[1;32m    191\u001b[0m             \u001b[0mAn\u001b[0m \u001b[0mopen\u001b[0m \u001b[0mfile\u001b[0m \u001b[0mobject\u001b[0m\u001b[0;34m,\u001b[0m \u001b[0;32mas\u001b[0m \u001b[0mreturned\u001b[0m \u001b[0mby\u001b[0m\u001b[0;31m \u001b[0m\u001b[0;31m`\u001b[0m\u001b[0;31m`\u001b[0m\u001b[0mopener\u001b[0m\u001b[0;34m(\u001b[0m\u001b[0;34m*\u001b[0m\u001b[0margs\u001b[0m\u001b[0;34m,\u001b[0m \u001b[0;34m**\u001b[0m\u001b[0mkwargs\u001b[0m\u001b[0;34m)\u001b[0m\u001b[0;31m`\u001b[0m\u001b[0;31m`\u001b[0m\u001b[0;34m.\u001b[0m\u001b[0;34m\u001b[0m\u001b[0;34m\u001b[0m\u001b[0m\n\u001b[1;32m    192\u001b[0m         \"\"\"\n\u001b[0;32m--> 193\u001b[0;31m         \u001b[0mfile\u001b[0m\u001b[0;34m,\u001b[0m \u001b[0m_\u001b[0m \u001b[0;34m=\u001b[0m \u001b[0mself\u001b[0m\u001b[0;34m.\u001b[0m\u001b[0m_acquire_with_cache_info\u001b[0m\u001b[0;34m(\u001b[0m\u001b[0mneeds_lock\u001b[0m\u001b[0;34m)\u001b[0m\u001b[0;34m\u001b[0m\u001b[0;34m\u001b[0m\u001b[0m\n\u001b[0m\u001b[1;32m    194\u001b[0m         \u001b[0;32mreturn\u001b[0m \u001b[0mfile\u001b[0m\u001b[0;34m\u001b[0m\u001b[0;34m\u001b[0m\u001b[0m\n\u001b[1;32m    195\u001b[0m \u001b[0;34m\u001b[0m\u001b[0m\n",
            "\u001b[0;32m/usr/local/lib/python3.10/dist-packages/xarray/backends/file_manager.py\u001b[0m in \u001b[0;36m_acquire_with_cache_info\u001b[0;34m(self, needs_lock)\u001b[0m\n\u001b[1;32m    215\u001b[0m                     \u001b[0mkwargs\u001b[0m \u001b[0;34m=\u001b[0m \u001b[0mkwargs\u001b[0m\u001b[0;34m.\u001b[0m\u001b[0mcopy\u001b[0m\u001b[0;34m(\u001b[0m\u001b[0;34m)\u001b[0m\u001b[0;34m\u001b[0m\u001b[0;34m\u001b[0m\u001b[0m\n\u001b[1;32m    216\u001b[0m                     \u001b[0mkwargs\u001b[0m\u001b[0;34m[\u001b[0m\u001b[0;34m\"mode\"\u001b[0m\u001b[0;34m]\u001b[0m \u001b[0;34m=\u001b[0m \u001b[0mself\u001b[0m\u001b[0;34m.\u001b[0m\u001b[0m_mode\u001b[0m\u001b[0;34m\u001b[0m\u001b[0;34m\u001b[0m\u001b[0m\n\u001b[0;32m--> 217\u001b[0;31m                 \u001b[0mfile\u001b[0m \u001b[0;34m=\u001b[0m \u001b[0mself\u001b[0m\u001b[0;34m.\u001b[0m\u001b[0m_opener\u001b[0m\u001b[0;34m(\u001b[0m\u001b[0;34m*\u001b[0m\u001b[0mself\u001b[0m\u001b[0;34m.\u001b[0m\u001b[0m_args\u001b[0m\u001b[0;34m,\u001b[0m \u001b[0;34m**\u001b[0m\u001b[0mkwargs\u001b[0m\u001b[0;34m)\u001b[0m\u001b[0;34m\u001b[0m\u001b[0;34m\u001b[0m\u001b[0m\n\u001b[0m\u001b[1;32m    218\u001b[0m                 \u001b[0;32mif\u001b[0m \u001b[0mself\u001b[0m\u001b[0;34m.\u001b[0m\u001b[0m_mode\u001b[0m \u001b[0;34m==\u001b[0m \u001b[0;34m\"w\"\u001b[0m\u001b[0;34m:\u001b[0m\u001b[0;34m\u001b[0m\u001b[0;34m\u001b[0m\u001b[0m\n\u001b[1;32m    219\u001b[0m                     \u001b[0;31m# ensure file doesn't get overridden when opened again\u001b[0m\u001b[0;34m\u001b[0m\u001b[0;34m\u001b[0m\u001b[0m\n",
            "\u001b[0;32m/usr/local/lib/python3.10/dist-packages/rasterio/env.py\u001b[0m in \u001b[0;36mwrapper\u001b[0;34m(*args, **kwds)\u001b[0m\n\u001b[1;32m    449\u001b[0m \u001b[0;34m\u001b[0m\u001b[0m\n\u001b[1;32m    450\u001b[0m         \u001b[0;32mwith\u001b[0m \u001b[0menv_ctor\u001b[0m\u001b[0;34m(\u001b[0m\u001b[0msession\u001b[0m\u001b[0;34m=\u001b[0m\u001b[0msession\u001b[0m\u001b[0;34m)\u001b[0m\u001b[0;34m:\u001b[0m\u001b[0;34m\u001b[0m\u001b[0;34m\u001b[0m\u001b[0m\n\u001b[0;32m--> 451\u001b[0;31m             \u001b[0;32mreturn\u001b[0m \u001b[0mf\u001b[0m\u001b[0;34m(\u001b[0m\u001b[0;34m*\u001b[0m\u001b[0margs\u001b[0m\u001b[0;34m,\u001b[0m \u001b[0;34m**\u001b[0m\u001b[0mkwds\u001b[0m\u001b[0;34m)\u001b[0m\u001b[0;34m\u001b[0m\u001b[0;34m\u001b[0m\u001b[0m\n\u001b[0m\u001b[1;32m    452\u001b[0m \u001b[0;34m\u001b[0m\u001b[0m\n\u001b[1;32m    453\u001b[0m     \u001b[0;32mreturn\u001b[0m \u001b[0mwrapper\u001b[0m\u001b[0;34m\u001b[0m\u001b[0;34m\u001b[0m\u001b[0m\n",
            "\u001b[0;32m/usr/local/lib/python3.10/dist-packages/rasterio/__init__.py\u001b[0m in \u001b[0;36mopen\u001b[0;34m(fp, mode, driver, width, height, count, crs, transform, dtype, nodata, sharing, **kwargs)\u001b[0m\n\u001b[1;32m    302\u001b[0m \u001b[0;34m\u001b[0m\u001b[0m\n\u001b[1;32m    303\u001b[0m         \u001b[0;32mif\u001b[0m \u001b[0mmode\u001b[0m \u001b[0;34m==\u001b[0m \u001b[0;34m\"r\"\u001b[0m\u001b[0;34m:\u001b[0m\u001b[0;34m\u001b[0m\u001b[0;34m\u001b[0m\u001b[0m\n\u001b[0;32m--> 304\u001b[0;31m             \u001b[0mdataset\u001b[0m \u001b[0;34m=\u001b[0m \u001b[0mDatasetReader\u001b[0m\u001b[0;34m(\u001b[0m\u001b[0mpath\u001b[0m\u001b[0;34m,\u001b[0m \u001b[0mdriver\u001b[0m\u001b[0;34m=\u001b[0m\u001b[0mdriver\u001b[0m\u001b[0;34m,\u001b[0m \u001b[0msharing\u001b[0m\u001b[0;34m=\u001b[0m\u001b[0msharing\u001b[0m\u001b[0;34m,\u001b[0m \u001b[0;34m**\u001b[0m\u001b[0mkwargs\u001b[0m\u001b[0;34m)\u001b[0m\u001b[0;34m\u001b[0m\u001b[0;34m\u001b[0m\u001b[0m\n\u001b[0m\u001b[1;32m    305\u001b[0m         \u001b[0;32melif\u001b[0m \u001b[0mmode\u001b[0m \u001b[0;34m==\u001b[0m \u001b[0;34m\"r+\"\u001b[0m\u001b[0;34m:\u001b[0m\u001b[0;34m\u001b[0m\u001b[0;34m\u001b[0m\u001b[0m\n\u001b[1;32m    306\u001b[0m             dataset = get_writer_for_path(path, driver=driver)(\n",
            "\u001b[0;32mrasterio/_base.pyx\u001b[0m in \u001b[0;36mrasterio._base.DatasetBase.__init__\u001b[0;34m()\u001b[0m\n",
            "\u001b[0;31mRasterioIOError\u001b[0m: HTTP response code: 403"
          ]
        }
      ]
    },
    {
      "cell_type": "code",
      "source": [
        "ds"
      ],
      "metadata": {
        "id": "-pBL0WUtu_kX"
      },
      "execution_count": null,
      "outputs": []
    },
    {
      "cell_type": "code",
      "source": [
        "img"
      ],
      "metadata": {
        "id": "K_ZB0kQfu_he"
      },
      "execution_count": null,
      "outputs": []
    }
  ]
}