{
  "nbformat": 4,
  "nbformat_minor": 0,
  "metadata": {
    "colab": {
      "provenance": [],
      "authorship_tag": "ABX9TyNukdozU0AIfH2EGV0Pm0YV",
      "include_colab_link": true
    },
    "kernelspec": {
      "name": "python3",
      "display_name": "Python 3"
    },
    "language_info": {
      "name": "python"
    }
  },
  "cells": [
    {
      "cell_type": "markdown",
      "metadata": {
        "id": "view-in-github",
        "colab_type": "text"
      },
      "source": [
        "<a href=\"https://colab.research.google.com/github/ua-datalab/Geospatial_Workshops/blob/main/notebooks/STAC_crawl2.ipynb\" target=\"_parent\"><img src=\"https://colab.research.google.com/assets/colab-badge.svg\" alt=\"Open In Colab\"/></a>"
      ]
    },
    {
      "cell_type": "code",
      "execution_count": 1,
      "metadata": {
        "colab": {
          "base_uri": "https://localhost:8080/"
        },
        "id": "Tjm8JImJqpig",
        "outputId": "4d055d4f-9cc5-437b-8c29-3b2e91a007d3"
      },
      "outputs": [
        {
          "output_type": "stream",
          "name": "stdout",
          "text": [
            "\u001b[?25l     \u001b[90m━━━━━━━━━━━━━━━━━━━━━━━━━━━━━━━━━━━━━━━━\u001b[0m \u001b[32m0.0/181.6 kB\u001b[0m \u001b[31m?\u001b[0m eta \u001b[36m-:--:--\u001b[0m\r\u001b[2K     \u001b[91m━━━━━━━━━━━━━\u001b[0m\u001b[91m╸\u001b[0m\u001b[90m━━━━━━━━━━━━━━━━━━━━━━━━━━\u001b[0m \u001b[32m61.4/181.6 kB\u001b[0m \u001b[31m2.3 MB/s\u001b[0m eta \u001b[36m0:00:01\u001b[0m\r\u001b[2K     \u001b[91m━━━━━━━━━━━━━━━━━━━━━━━━━━━━━━━━━━━━━━\u001b[0m\u001b[90m╺\u001b[0m\u001b[90m━\u001b[0m \u001b[32m174.1/181.6 kB\u001b[0m \u001b[31m2.4 MB/s\u001b[0m eta \u001b[36m0:00:01\u001b[0m\r\u001b[2K     \u001b[90m━━━━━━━━━━━━━━━━━━━━━━━━━━━━━━━━━━━━━━━━\u001b[0m \u001b[32m181.6/181.6 kB\u001b[0m \u001b[31m2.1 MB/s\u001b[0m eta \u001b[36m0:00:00\u001b[0m\n",
            "\u001b[?25h"
          ]
        }
      ],
      "source": [
        "# Install pystac_client. This library is used to crawl SpatioTemporal Asset Catalogs (STAC)\n",
        "!pip install pystac_client --quiet\n",
        "!pip install planetary_computer --quiet"
      ]
    },
    {
      "cell_type": "code",
      "source": [
        "##Install library to work with raster images\n",
        "\n",
        "!pip install rasterio --quiet"
      ],
      "metadata": {
        "colab": {
          "base_uri": "https://localhost:8080/"
        },
        "id": "iR6911YgtYMf",
        "outputId": "f923dfe8-ae1f-42bf-9f48-36b6d25fa508"
      },
      "execution_count": 13,
      "outputs": [
        {
          "output_type": "stream",
          "name": "stdout",
          "text": [
            "\u001b[2K     \u001b[90m━━━━━━━━━━━━━━━━━━━━━━━━━━━━━━━━━━━━━━━━\u001b[0m \u001b[32m20.6/20.6 MB\u001b[0m \u001b[31m43.3 MB/s\u001b[0m eta \u001b[36m0:00:00\u001b[0m\n",
            "\u001b[?25h"
          ]
        }
      ]
    },
    {
      "cell_type": "code",
      "source": [
        "!pip install rioxarray"
      ],
      "metadata": {
        "id": "8_37wVYJuhte"
      },
      "execution_count": null,
      "outputs": []
    },
    {
      "cell_type": "code",
      "source": [
        "import rasterio\n",
        "from rasterio.plot import show\n",
        "import matplotlib.pyplot as plt\n",
        "import requests\n",
        "import numpy as np"
      ],
      "metadata": {
        "id": "SPoRF-M8tdKX"
      },
      "execution_count": 14,
      "outputs": []
    },
    {
      "cell_type": "code",
      "source": [
        "import pystac_client\n",
        "import planetary_computer\n",
        "\n",
        "catalog = pystac_client.Client.open(\n",
        "    \"https://planetarycomputer.microsoft.com/api/stac/v1\",\n",
        "    modifier=planetary_computer.sign_inplace,\n",
        ")"
      ],
      "metadata": {
        "id": "j1mgkHQXq2Zz"
      },
      "execution_count": 2,
      "outputs": []
    },
    {
      "cell_type": "code",
      "source": [
        "#from pystac_client import Client\n",
        "collections = list(catalog.get_collections())\n",
        "\n",
        "# Print the number of collections\n",
        "print(f\"Number of collections in the base catalog: {len(collections)}\")"
      ],
      "metadata": {
        "colab": {
          "base_uri": "https://localhost:8080/"
        },
        "id": "1-iYtjUcxeZ9",
        "outputId": "787acfb5-3d52-44fa-b84c-25c1bdd2f51c"
      },
      "execution_count": 26,
      "outputs": [
        {
          "output_type": "stream",
          "name": "stdout",
          "text": [
            "Number of collections in the base catalog: 123\n"
          ]
        }
      ]
    },
    {
      "cell_type": "code",
      "source": [
        "time_range = \"2020-12-01/2020-12-31\"\n",
        "bbox = [-122.2751, 47.5469, -121.9613, 47.7458]\n",
        "\n",
        "search = catalog.search(collections=[\"landsat-c2-l2\"], bbox=bbox, datetime=time_range)\n",
        "items = search.get_all_items()\n",
        "len(items)\n",
        "\n"
      ],
      "metadata": {
        "id": "scfnloHoq9Qa"
      },
      "execution_count": null,
      "outputs": []
    },
    {
      "cell_type": "code",
      "source": [
        "for item in items:\n",
        "    print(f\"Item ID: {item.id}\")\n",
        "\n",
        "    # Print the asset names (keys) for each item\n",
        "    print(\"Assets:\")\n",
        "    for asset_key in item.assets:\n",
        "        print(f\"  - {asset_key}: {item.assets[asset_key].href}\")\n",
        "    print(\"---------------------------------------------------\")"
      ],
      "metadata": {
        "id": "4XoF-Zv1ypAy"
      },
      "execution_count": null,
      "outputs": []
    },
    {
      "cell_type": "code",
      "source": [
        "import geopandas\n",
        "\n",
        "df = geopandas.GeoDataFrame.from_features(items.to_dict(), crs=\"epsg:4326\")\n",
        "df"
      ],
      "metadata": {
        "colab": {
          "base_uri": "https://localhost:8080/",
          "height": 905
        },
        "id": "2IeEzivjrDKq",
        "outputId": "b0ef19eb-727d-4bef-f6a1-b4fedb8f6d86"
      },
      "execution_count": 4,
      "outputs": [
        {
          "output_type": "execute_result",
          "data": {
            "text/plain": [
              "                                            geometry  gsd  \\\n",
              "0  POLYGON ((-122.72549 48.50884, -120.29248 48.0...   30   \n",
              "1  POLYGON ((-124.52046 48.44245, -121.93932 48.0...   30   \n",
              "2  POLYGON ((-122.96802 48.44547, -120.39024 48.0...   30   \n",
              "3  POLYGON ((-124.27547 48.50831, -121.84167 48.0...   30   \n",
              "4  POLYGON ((-122.72996 48.50858, -120.29690 48.0...   30   \n",
              "5  POLYGON ((-124.51935 48.44597, -121.93965 48.0...   30   \n",
              "6  POLYGON ((-122.98709 48.44790, -120.40945 48.0...   30   \n",
              "7  POLYGON ((-124.27385 48.50833, -121.83965 48.0...   30   \n",
              "\n",
              "                       created           sci:doi                     datetime  \\\n",
              "0  2022-05-06T18:04:17.126358Z  10.5066/P9OGBGM6  2020-12-29T18:55:56.738265Z   \n",
              "1  2022-05-06T17:25:29.626986Z  10.5066/P9C7I13B  2020-12-28T18:20:32.609164Z   \n",
              "2  2022-05-06T18:01:04.319403Z  10.5066/P9C7I13B  2020-12-21T18:14:50.812768Z   \n",
              "3  2022-05-06T17:46:22.246696Z  10.5066/P9OGBGM6  2020-12-20T19:02:09.878796Z   \n",
              "4  2022-05-06T18:04:16.935800Z  10.5066/P9OGBGM6  2020-12-13T18:56:00.096447Z   \n",
              "5  2022-05-06T17:25:29.412798Z  10.5066/P9C7I13B  2020-12-12T18:21:42.991249Z   \n",
              "6  2022-05-06T18:01:04.178839Z  10.5066/P9C7I13B  2020-12-05T18:16:03.755599Z   \n",
              "7  2022-05-06T17:46:22.097338Z  10.5066/P9OGBGM6  2020-12-04T19:02:11.194486Z   \n",
              "\n",
              "    platform  proj:epsg    proj:shape                   description  \\\n",
              "0  landsat-8      32610  [7881, 7781]  Landsat Collection 2 Level-2   \n",
              "1  landsat-7      32610  [7361, 8341]  Landsat Collection 2 Level-2   \n",
              "2  landsat-7      32610  [7251, 8251]  Landsat Collection 2 Level-2   \n",
              "3  landsat-8      32610  [7971, 7861]  Landsat Collection 2 Level-2   \n",
              "4  landsat-8      32610  [7881, 7781]  Landsat Collection 2 Level-2   \n",
              "5  landsat-7      32610  [7361, 8341]  Landsat Collection 2 Level-2   \n",
              "6  landsat-7      32610  [7281, 8251]  Landsat Collection 2 Level-2   \n",
              "7  landsat-8      32610  [7971, 7861]  Landsat Collection 2 Level-2   \n",
              "\n",
              "   instruments  ...  landsat:wrs_row       landsat:scene_id  landsat:wrs_path  \\\n",
              "0  [oli, tirs]  ...              027  LC80460272020364LGN00               046   \n",
              "1       [etm+]  ...              027  LE70470272020363EDC00               047   \n",
              "2       [etm+]  ...              027  LE70460272020356EDC00               046   \n",
              "3  [oli, tirs]  ...              027  LC80470272020355LGN00               047   \n",
              "4  [oli, tirs]  ...              027  LC80460272020348LGN00               046   \n",
              "5       [etm+]  ...              027  LE70470272020347EDC00               047   \n",
              "6       [etm+]  ...              027  LE70460272020340EDC00               046   \n",
              "7  [oli, tirs]  ...              027  LC80470272020339LGN00               047   \n",
              "\n",
              "  landsat:wrs_type view:sun_azimuth landsat:correction view:sun_elevation  \\\n",
              "0                2       162.253231               L2SP          17.458298   \n",
              "1                2       152.689113               L2SP          14.678880   \n",
              "2                2       153.649177               L2SP          14.779612   \n",
              "3                2       163.360118               L2SP          17.414441   \n",
              "4                2       164.126188               L2SP          17.799744   \n",
              "5                2       154.692691               L2SP          15.427422   \n",
              "6                2       155.308739               L2SP          16.313570   \n",
              "7                2       164.914060               L2SP          18.807230   \n",
              "\n",
              "   landsat:cloud_cover_land landsat:collection_number  \\\n",
              "0                    100.00                        02   \n",
              "1                     32.00                        02   \n",
              "2                     24.00                        02   \n",
              "3                    100.00                        02   \n",
              "4                     98.64                        02   \n",
              "5                     12.00                        02   \n",
              "6                      2.00                        02   \n",
              "7                      1.90                        02   \n",
              "\n",
              "   landsat:collection_category  \n",
              "0                           T2  \n",
              "1                           T1  \n",
              "2                           T2  \n",
              "3                           T2  \n",
              "4                           T2  \n",
              "5                           T1  \n",
              "6                           T1  \n",
              "7                           T1  \n",
              "\n",
              "[8 rows x 23 columns]"
            ],
            "text/html": [
              "\n",
              "  <div id=\"df-0354be97-3567-4861-91ed-14b657fcbeac\" class=\"colab-df-container\">\n",
              "    <div>\n",
              "<style scoped>\n",
              "    .dataframe tbody tr th:only-of-type {\n",
              "        vertical-align: middle;\n",
              "    }\n",
              "\n",
              "    .dataframe tbody tr th {\n",
              "        vertical-align: top;\n",
              "    }\n",
              "\n",
              "    .dataframe thead th {\n",
              "        text-align: right;\n",
              "    }\n",
              "</style>\n",
              "<table border=\"1\" class=\"dataframe\">\n",
              "  <thead>\n",
              "    <tr style=\"text-align: right;\">\n",
              "      <th></th>\n",
              "      <th>geometry</th>\n",
              "      <th>gsd</th>\n",
              "      <th>created</th>\n",
              "      <th>sci:doi</th>\n",
              "      <th>datetime</th>\n",
              "      <th>platform</th>\n",
              "      <th>proj:epsg</th>\n",
              "      <th>proj:shape</th>\n",
              "      <th>description</th>\n",
              "      <th>instruments</th>\n",
              "      <th>...</th>\n",
              "      <th>landsat:wrs_row</th>\n",
              "      <th>landsat:scene_id</th>\n",
              "      <th>landsat:wrs_path</th>\n",
              "      <th>landsat:wrs_type</th>\n",
              "      <th>view:sun_azimuth</th>\n",
              "      <th>landsat:correction</th>\n",
              "      <th>view:sun_elevation</th>\n",
              "      <th>landsat:cloud_cover_land</th>\n",
              "      <th>landsat:collection_number</th>\n",
              "      <th>landsat:collection_category</th>\n",
              "    </tr>\n",
              "  </thead>\n",
              "  <tbody>\n",
              "    <tr>\n",
              "      <th>0</th>\n",
              "      <td>POLYGON ((-122.72549 48.50884, -120.29248 48.0...</td>\n",
              "      <td>30</td>\n",
              "      <td>2022-05-06T18:04:17.126358Z</td>\n",
              "      <td>10.5066/P9OGBGM6</td>\n",
              "      <td>2020-12-29T18:55:56.738265Z</td>\n",
              "      <td>landsat-8</td>\n",
              "      <td>32610</td>\n",
              "      <td>[7881, 7781]</td>\n",
              "      <td>Landsat Collection 2 Level-2</td>\n",
              "      <td>[oli, tirs]</td>\n",
              "      <td>...</td>\n",
              "      <td>027</td>\n",
              "      <td>LC80460272020364LGN00</td>\n",
              "      <td>046</td>\n",
              "      <td>2</td>\n",
              "      <td>162.253231</td>\n",
              "      <td>L2SP</td>\n",
              "      <td>17.458298</td>\n",
              "      <td>100.00</td>\n",
              "      <td>02</td>\n",
              "      <td>T2</td>\n",
              "    </tr>\n",
              "    <tr>\n",
              "      <th>1</th>\n",
              "      <td>POLYGON ((-124.52046 48.44245, -121.93932 48.0...</td>\n",
              "      <td>30</td>\n",
              "      <td>2022-05-06T17:25:29.626986Z</td>\n",
              "      <td>10.5066/P9C7I13B</td>\n",
              "      <td>2020-12-28T18:20:32.609164Z</td>\n",
              "      <td>landsat-7</td>\n",
              "      <td>32610</td>\n",
              "      <td>[7361, 8341]</td>\n",
              "      <td>Landsat Collection 2 Level-2</td>\n",
              "      <td>[etm+]</td>\n",
              "      <td>...</td>\n",
              "      <td>027</td>\n",
              "      <td>LE70470272020363EDC00</td>\n",
              "      <td>047</td>\n",
              "      <td>2</td>\n",
              "      <td>152.689113</td>\n",
              "      <td>L2SP</td>\n",
              "      <td>14.678880</td>\n",
              "      <td>32.00</td>\n",
              "      <td>02</td>\n",
              "      <td>T1</td>\n",
              "    </tr>\n",
              "    <tr>\n",
              "      <th>2</th>\n",
              "      <td>POLYGON ((-122.96802 48.44547, -120.39024 48.0...</td>\n",
              "      <td>30</td>\n",
              "      <td>2022-05-06T18:01:04.319403Z</td>\n",
              "      <td>10.5066/P9C7I13B</td>\n",
              "      <td>2020-12-21T18:14:50.812768Z</td>\n",
              "      <td>landsat-7</td>\n",
              "      <td>32610</td>\n",
              "      <td>[7251, 8251]</td>\n",
              "      <td>Landsat Collection 2 Level-2</td>\n",
              "      <td>[etm+]</td>\n",
              "      <td>...</td>\n",
              "      <td>027</td>\n",
              "      <td>LE70460272020356EDC00</td>\n",
              "      <td>046</td>\n",
              "      <td>2</td>\n",
              "      <td>153.649177</td>\n",
              "      <td>L2SP</td>\n",
              "      <td>14.779612</td>\n",
              "      <td>24.00</td>\n",
              "      <td>02</td>\n",
              "      <td>T2</td>\n",
              "    </tr>\n",
              "    <tr>\n",
              "      <th>3</th>\n",
              "      <td>POLYGON ((-124.27547 48.50831, -121.84167 48.0...</td>\n",
              "      <td>30</td>\n",
              "      <td>2022-05-06T17:46:22.246696Z</td>\n",
              "      <td>10.5066/P9OGBGM6</td>\n",
              "      <td>2020-12-20T19:02:09.878796Z</td>\n",
              "      <td>landsat-8</td>\n",
              "      <td>32610</td>\n",
              "      <td>[7971, 7861]</td>\n",
              "      <td>Landsat Collection 2 Level-2</td>\n",
              "      <td>[oli, tirs]</td>\n",
              "      <td>...</td>\n",
              "      <td>027</td>\n",
              "      <td>LC80470272020355LGN00</td>\n",
              "      <td>047</td>\n",
              "      <td>2</td>\n",
              "      <td>163.360118</td>\n",
              "      <td>L2SP</td>\n",
              "      <td>17.414441</td>\n",
              "      <td>100.00</td>\n",
              "      <td>02</td>\n",
              "      <td>T2</td>\n",
              "    </tr>\n",
              "    <tr>\n",
              "      <th>4</th>\n",
              "      <td>POLYGON ((-122.72996 48.50858, -120.29690 48.0...</td>\n",
              "      <td>30</td>\n",
              "      <td>2022-05-06T18:04:16.935800Z</td>\n",
              "      <td>10.5066/P9OGBGM6</td>\n",
              "      <td>2020-12-13T18:56:00.096447Z</td>\n",
              "      <td>landsat-8</td>\n",
              "      <td>32610</td>\n",
              "      <td>[7881, 7781]</td>\n",
              "      <td>Landsat Collection 2 Level-2</td>\n",
              "      <td>[oli, tirs]</td>\n",
              "      <td>...</td>\n",
              "      <td>027</td>\n",
              "      <td>LC80460272020348LGN00</td>\n",
              "      <td>046</td>\n",
              "      <td>2</td>\n",
              "      <td>164.126188</td>\n",
              "      <td>L2SP</td>\n",
              "      <td>17.799744</td>\n",
              "      <td>98.64</td>\n",
              "      <td>02</td>\n",
              "      <td>T2</td>\n",
              "    </tr>\n",
              "    <tr>\n",
              "      <th>5</th>\n",
              "      <td>POLYGON ((-124.51935 48.44597, -121.93965 48.0...</td>\n",
              "      <td>30</td>\n",
              "      <td>2022-05-06T17:25:29.412798Z</td>\n",
              "      <td>10.5066/P9C7I13B</td>\n",
              "      <td>2020-12-12T18:21:42.991249Z</td>\n",
              "      <td>landsat-7</td>\n",
              "      <td>32610</td>\n",
              "      <td>[7361, 8341]</td>\n",
              "      <td>Landsat Collection 2 Level-2</td>\n",
              "      <td>[etm+]</td>\n",
              "      <td>...</td>\n",
              "      <td>027</td>\n",
              "      <td>LE70470272020347EDC00</td>\n",
              "      <td>047</td>\n",
              "      <td>2</td>\n",
              "      <td>154.692691</td>\n",
              "      <td>L2SP</td>\n",
              "      <td>15.427422</td>\n",
              "      <td>12.00</td>\n",
              "      <td>02</td>\n",
              "      <td>T1</td>\n",
              "    </tr>\n",
              "    <tr>\n",
              "      <th>6</th>\n",
              "      <td>POLYGON ((-122.98709 48.44790, -120.40945 48.0...</td>\n",
              "      <td>30</td>\n",
              "      <td>2022-05-06T18:01:04.178839Z</td>\n",
              "      <td>10.5066/P9C7I13B</td>\n",
              "      <td>2020-12-05T18:16:03.755599Z</td>\n",
              "      <td>landsat-7</td>\n",
              "      <td>32610</td>\n",
              "      <td>[7281, 8251]</td>\n",
              "      <td>Landsat Collection 2 Level-2</td>\n",
              "      <td>[etm+]</td>\n",
              "      <td>...</td>\n",
              "      <td>027</td>\n",
              "      <td>LE70460272020340EDC00</td>\n",
              "      <td>046</td>\n",
              "      <td>2</td>\n",
              "      <td>155.308739</td>\n",
              "      <td>L2SP</td>\n",
              "      <td>16.313570</td>\n",
              "      <td>2.00</td>\n",
              "      <td>02</td>\n",
              "      <td>T1</td>\n",
              "    </tr>\n",
              "    <tr>\n",
              "      <th>7</th>\n",
              "      <td>POLYGON ((-124.27385 48.50833, -121.83965 48.0...</td>\n",
              "      <td>30</td>\n",
              "      <td>2022-05-06T17:46:22.097338Z</td>\n",
              "      <td>10.5066/P9OGBGM6</td>\n",
              "      <td>2020-12-04T19:02:11.194486Z</td>\n",
              "      <td>landsat-8</td>\n",
              "      <td>32610</td>\n",
              "      <td>[7971, 7861]</td>\n",
              "      <td>Landsat Collection 2 Level-2</td>\n",
              "      <td>[oli, tirs]</td>\n",
              "      <td>...</td>\n",
              "      <td>027</td>\n",
              "      <td>LC80470272020339LGN00</td>\n",
              "      <td>047</td>\n",
              "      <td>2</td>\n",
              "      <td>164.914060</td>\n",
              "      <td>L2SP</td>\n",
              "      <td>18.807230</td>\n",
              "      <td>1.90</td>\n",
              "      <td>02</td>\n",
              "      <td>T1</td>\n",
              "    </tr>\n",
              "  </tbody>\n",
              "</table>\n",
              "<p>8 rows × 23 columns</p>\n",
              "</div>\n",
              "    <div class=\"colab-df-buttons\">\n",
              "\n",
              "  <div class=\"colab-df-container\">\n",
              "    <button class=\"colab-df-convert\" onclick=\"convertToInteractive('df-0354be97-3567-4861-91ed-14b657fcbeac')\"\n",
              "            title=\"Convert this dataframe to an interactive table.\"\n",
              "            style=\"display:none;\">\n",
              "\n",
              "  <svg xmlns=\"http://www.w3.org/2000/svg\" height=\"24px\" viewBox=\"0 -960 960 960\">\n",
              "    <path d=\"M120-120v-720h720v720H120Zm60-500h600v-160H180v160Zm220 220h160v-160H400v160Zm0 220h160v-160H400v160ZM180-400h160v-160H180v160Zm440 0h160v-160H620v160ZM180-180h160v-160H180v160Zm440 0h160v-160H620v160Z\"/>\n",
              "  </svg>\n",
              "    </button>\n",
              "\n",
              "  <style>\n",
              "    .colab-df-container {\n",
              "      display:flex;\n",
              "      gap: 12px;\n",
              "    }\n",
              "\n",
              "    .colab-df-convert {\n",
              "      background-color: #E8F0FE;\n",
              "      border: none;\n",
              "      border-radius: 50%;\n",
              "      cursor: pointer;\n",
              "      display: none;\n",
              "      fill: #1967D2;\n",
              "      height: 32px;\n",
              "      padding: 0 0 0 0;\n",
              "      width: 32px;\n",
              "    }\n",
              "\n",
              "    .colab-df-convert:hover {\n",
              "      background-color: #E2EBFA;\n",
              "      box-shadow: 0px 1px 2px rgba(60, 64, 67, 0.3), 0px 1px 3px 1px rgba(60, 64, 67, 0.15);\n",
              "      fill: #174EA6;\n",
              "    }\n",
              "\n",
              "    .colab-df-buttons div {\n",
              "      margin-bottom: 4px;\n",
              "    }\n",
              "\n",
              "    [theme=dark] .colab-df-convert {\n",
              "      background-color: #3B4455;\n",
              "      fill: #D2E3FC;\n",
              "    }\n",
              "\n",
              "    [theme=dark] .colab-df-convert:hover {\n",
              "      background-color: #434B5C;\n",
              "      box-shadow: 0px 1px 3px 1px rgba(0, 0, 0, 0.15);\n",
              "      filter: drop-shadow(0px 1px 2px rgba(0, 0, 0, 0.3));\n",
              "      fill: #FFFFFF;\n",
              "    }\n",
              "  </style>\n",
              "\n",
              "    <script>\n",
              "      const buttonEl =\n",
              "        document.querySelector('#df-0354be97-3567-4861-91ed-14b657fcbeac button.colab-df-convert');\n",
              "      buttonEl.style.display =\n",
              "        google.colab.kernel.accessAllowed ? 'block' : 'none';\n",
              "\n",
              "      async function convertToInteractive(key) {\n",
              "        const element = document.querySelector('#df-0354be97-3567-4861-91ed-14b657fcbeac');\n",
              "        const dataTable =\n",
              "          await google.colab.kernel.invokeFunction('convertToInteractive',\n",
              "                                                    [key], {});\n",
              "        if (!dataTable) return;\n",
              "\n",
              "        const docLinkHtml = 'Like what you see? Visit the ' +\n",
              "          '<a target=\"_blank\" href=https://colab.research.google.com/notebooks/data_table.ipynb>data table notebook</a>'\n",
              "          + ' to learn more about interactive tables.';\n",
              "        element.innerHTML = '';\n",
              "        dataTable['output_type'] = 'display_data';\n",
              "        await google.colab.output.renderOutput(dataTable, element);\n",
              "        const docLink = document.createElement('div');\n",
              "        docLink.innerHTML = docLinkHtml;\n",
              "        element.appendChild(docLink);\n",
              "      }\n",
              "    </script>\n",
              "  </div>\n",
              "\n",
              "\n",
              "<div id=\"df-5cd608dd-9743-4a96-84bc-5bd6fc64651b\">\n",
              "  <button class=\"colab-df-quickchart\" onclick=\"quickchart('df-5cd608dd-9743-4a96-84bc-5bd6fc64651b')\"\n",
              "            title=\"Suggest charts\"\n",
              "            style=\"display:none;\">\n",
              "\n",
              "<svg xmlns=\"http://www.w3.org/2000/svg\" height=\"24px\"viewBox=\"0 0 24 24\"\n",
              "     width=\"24px\">\n",
              "    <g>\n",
              "        <path d=\"M19 3H5c-1.1 0-2 .9-2 2v14c0 1.1.9 2 2 2h14c1.1 0 2-.9 2-2V5c0-1.1-.9-2-2-2zM9 17H7v-7h2v7zm4 0h-2V7h2v10zm4 0h-2v-4h2v4z\"/>\n",
              "    </g>\n",
              "</svg>\n",
              "  </button>\n",
              "\n",
              "<style>\n",
              "  .colab-df-quickchart {\n",
              "      --bg-color: #E8F0FE;\n",
              "      --fill-color: #1967D2;\n",
              "      --hover-bg-color: #E2EBFA;\n",
              "      --hover-fill-color: #174EA6;\n",
              "      --disabled-fill-color: #AAA;\n",
              "      --disabled-bg-color: #DDD;\n",
              "  }\n",
              "\n",
              "  [theme=dark] .colab-df-quickchart {\n",
              "      --bg-color: #3B4455;\n",
              "      --fill-color: #D2E3FC;\n",
              "      --hover-bg-color: #434B5C;\n",
              "      --hover-fill-color: #FFFFFF;\n",
              "      --disabled-bg-color: #3B4455;\n",
              "      --disabled-fill-color: #666;\n",
              "  }\n",
              "\n",
              "  .colab-df-quickchart {\n",
              "    background-color: var(--bg-color);\n",
              "    border: none;\n",
              "    border-radius: 50%;\n",
              "    cursor: pointer;\n",
              "    display: none;\n",
              "    fill: var(--fill-color);\n",
              "    height: 32px;\n",
              "    padding: 0;\n",
              "    width: 32px;\n",
              "  }\n",
              "\n",
              "  .colab-df-quickchart:hover {\n",
              "    background-color: var(--hover-bg-color);\n",
              "    box-shadow: 0 1px 2px rgba(60, 64, 67, 0.3), 0 1px 3px 1px rgba(60, 64, 67, 0.15);\n",
              "    fill: var(--button-hover-fill-color);\n",
              "  }\n",
              "\n",
              "  .colab-df-quickchart-complete:disabled,\n",
              "  .colab-df-quickchart-complete:disabled:hover {\n",
              "    background-color: var(--disabled-bg-color);\n",
              "    fill: var(--disabled-fill-color);\n",
              "    box-shadow: none;\n",
              "  }\n",
              "\n",
              "  .colab-df-spinner {\n",
              "    border: 2px solid var(--fill-color);\n",
              "    border-color: transparent;\n",
              "    border-bottom-color: var(--fill-color);\n",
              "    animation:\n",
              "      spin 1s steps(1) infinite;\n",
              "  }\n",
              "\n",
              "  @keyframes spin {\n",
              "    0% {\n",
              "      border-color: transparent;\n",
              "      border-bottom-color: var(--fill-color);\n",
              "      border-left-color: var(--fill-color);\n",
              "    }\n",
              "    20% {\n",
              "      border-color: transparent;\n",
              "      border-left-color: var(--fill-color);\n",
              "      border-top-color: var(--fill-color);\n",
              "    }\n",
              "    30% {\n",
              "      border-color: transparent;\n",
              "      border-left-color: var(--fill-color);\n",
              "      border-top-color: var(--fill-color);\n",
              "      border-right-color: var(--fill-color);\n",
              "    }\n",
              "    40% {\n",
              "      border-color: transparent;\n",
              "      border-right-color: var(--fill-color);\n",
              "      border-top-color: var(--fill-color);\n",
              "    }\n",
              "    60% {\n",
              "      border-color: transparent;\n",
              "      border-right-color: var(--fill-color);\n",
              "    }\n",
              "    80% {\n",
              "      border-color: transparent;\n",
              "      border-right-color: var(--fill-color);\n",
              "      border-bottom-color: var(--fill-color);\n",
              "    }\n",
              "    90% {\n",
              "      border-color: transparent;\n",
              "      border-bottom-color: var(--fill-color);\n",
              "    }\n",
              "  }\n",
              "</style>\n",
              "\n",
              "  <script>\n",
              "    async function quickchart(key) {\n",
              "      const quickchartButtonEl =\n",
              "        document.querySelector('#' + key + ' button');\n",
              "      quickchartButtonEl.disabled = true;  // To prevent multiple clicks.\n",
              "      quickchartButtonEl.classList.add('colab-df-spinner');\n",
              "      try {\n",
              "        const charts = await google.colab.kernel.invokeFunction(\n",
              "            'suggestCharts', [key], {});\n",
              "      } catch (error) {\n",
              "        console.error('Error during call to suggestCharts:', error);\n",
              "      }\n",
              "      quickchartButtonEl.classList.remove('colab-df-spinner');\n",
              "      quickchartButtonEl.classList.add('colab-df-quickchart-complete');\n",
              "    }\n",
              "    (() => {\n",
              "      let quickchartButtonEl =\n",
              "        document.querySelector('#df-5cd608dd-9743-4a96-84bc-5bd6fc64651b button');\n",
              "      quickchartButtonEl.style.display =\n",
              "        google.colab.kernel.accessAllowed ? 'block' : 'none';\n",
              "    })();\n",
              "  </script>\n",
              "</div>\n",
              "    </div>\n",
              "  </div>\n"
            ],
            "application/vnd.google.colaboratory.intrinsic+json": {
              "type": "dataframe",
              "variable_name": "df"
            }
          },
          "metadata": {},
          "execution_count": 4
        }
      ]
    },
    {
      "cell_type": "code",
      "source": [
        "selected_item = min(items, key=lambda item: item.properties[\"eo:cloud_cover\"])\n",
        "print(selected_item)"
      ],
      "metadata": {
        "colab": {
          "base_uri": "https://localhost:8080/"
        },
        "id": "YNtgpdPqrIaD",
        "outputId": "47d076ee-4830-4f91-f3ec-38533efbb69f"
      },
      "execution_count": 5,
      "outputs": [
        {
          "output_type": "stream",
          "name": "stdout",
          "text": [
            "<Item id=LC08_L2SP_047027_20201204_02_T1>\n"
          ]
        }
      ]
    },
    {
      "cell_type": "code",
      "source": [
        "import rich.table\n",
        "\n",
        "table = rich.table.Table(\"Asset Key\", \"Description\")\n",
        "for asset_key, asset in selected_item.assets.items():\n",
        "    table.add_row(asset_key, asset.title)\n",
        "\n",
        "table"
      ],
      "metadata": {
        "colab": {
          "base_uri": "https://localhost:8080/",
          "height": 496
        },
        "id": "cvBFVZRlrLJL",
        "outputId": "41827e9f-0c26-4b1e-e6f8-64647b60bca1"
      },
      "execution_count": 6,
      "outputs": [
        {
          "output_type": "execute_result",
          "data": {
            "text/plain": [
              "┏━━━━━━━━━━━━━━━━━━┳━━━━━━━━━━━━━━━━━━━━━━━━━━━━━━━━━━━━━━━━━━━━━━━━━━━━━━━━━━━━━━━━━━━━━━┓\n",
              "┃\u001b[1m \u001b[0m\u001b[1mAsset Key       \u001b[0m\u001b[1m \u001b[0m┃\u001b[1m \u001b[0m\u001b[1mDescription                                                         \u001b[0m\u001b[1m \u001b[0m┃\n",
              "┡━━━━━━━━━━━━━━━━━━╇━━━━━━━━━━━━━━━━━━━━━━━━━━━━━━━━━━━━━━━━━━━━━━━━━━━━━━━━━━━━━━━━━━━━━━┩\n",
              "│ qa               │ Surface Temperature Quality Assessment Band                          │\n",
              "│ ang              │ Angle Coefficients File                                              │\n",
              "│ red              │ Red Band                                                             │\n",
              "│ blue             │ Blue Band                                                            │\n",
              "│ drad             │ Downwelled Radiance Band                                             │\n",
              "│ emis             │ Emissivity Band                                                      │\n",
              "│ emsd             │ Emissivity Standard Deviation Band                                   │\n",
              "│ trad             │ Thermal Radiance Band                                                │\n",
              "│ urad             │ Upwelled Radiance Band                                               │\n",
              "│ atran            │ Atmospheric Transmittance Band                                       │\n",
              "│ cdist            │ Cloud Distance Band                                                  │\n",
              "│ green            │ Green Band                                                           │\n",
              "│ nir08            │ Near Infrared Band 0.8                                               │\n",
              "│ lwir11           │ Surface Temperature Band                                             │\n",
              "│ swir16           │ Short-wave Infrared Band 1.6                                         │\n",
              "│ swir22           │ Short-wave Infrared Band 2.2                                         │\n",
              "│ coastal          │ Coastal/Aerosol Band                                                 │\n",
              "│ mtl.txt          │ Product Metadata File (txt)                                          │\n",
              "│ mtl.xml          │ Product Metadata File (xml)                                          │\n",
              "│ mtl.json         │ Product Metadata File (json)                                         │\n",
              "│ qa_pixel         │ Pixel Quality Assessment Band                                        │\n",
              "│ qa_radsat        │ Radiometric Saturation and Terrain Occlusion Quality Assessment Band │\n",
              "│ qa_aerosol       │ Aerosol Quality Assessment Band                                      │\n",
              "│ tilejson         │ TileJSON with default rendering                                      │\n",
              "│ rendered_preview │ Rendered preview                                                     │\n",
              "└──────────────────┴──────────────────────────────────────────────────────────────────────┘\n"
            ],
            "text/html": [
              "<pre style=\"white-space:pre;overflow-x:auto;line-height:normal;font-family:Menlo,'DejaVu Sans Mono',consolas,'Courier New',monospace\">┏━━━━━━━━━━━━━━━━━━┳━━━━━━━━━━━━━━━━━━━━━━━━━━━━━━━━━━━━━━━━━━━━━━━━━━━━━━━━━━━━━━━━━━━━━━┓\n",
              "┃<span style=\"font-weight: bold\"> Asset Key        </span>┃<span style=\"font-weight: bold\"> Description                                                          </span>┃\n",
              "┡━━━━━━━━━━━━━━━━━━╇━━━━━━━━━━━━━━━━━━━━━━━━━━━━━━━━━━━━━━━━━━━━━━━━━━━━━━━━━━━━━━━━━━━━━━┩\n",
              "│ qa               │ Surface Temperature Quality Assessment Band                          │\n",
              "│ ang              │ Angle Coefficients File                                              │\n",
              "│ red              │ Red Band                                                             │\n",
              "│ blue             │ Blue Band                                                            │\n",
              "│ drad             │ Downwelled Radiance Band                                             │\n",
              "│ emis             │ Emissivity Band                                                      │\n",
              "│ emsd             │ Emissivity Standard Deviation Band                                   │\n",
              "│ trad             │ Thermal Radiance Band                                                │\n",
              "│ urad             │ Upwelled Radiance Band                                               │\n",
              "│ atran            │ Atmospheric Transmittance Band                                       │\n",
              "│ cdist            │ Cloud Distance Band                                                  │\n",
              "│ green            │ Green Band                                                           │\n",
              "│ nir08            │ Near Infrared Band 0.8                                               │\n",
              "│ lwir11           │ Surface Temperature Band                                             │\n",
              "│ swir16           │ Short-wave Infrared Band 1.6                                         │\n",
              "│ swir22           │ Short-wave Infrared Band 2.2                                         │\n",
              "│ coastal          │ Coastal/Aerosol Band                                                 │\n",
              "│ mtl.txt          │ Product Metadata File (txt)                                          │\n",
              "│ mtl.xml          │ Product Metadata File (xml)                                          │\n",
              "│ mtl.json         │ Product Metadata File (json)                                         │\n",
              "│ qa_pixel         │ Pixel Quality Assessment Band                                        │\n",
              "│ qa_radsat        │ Radiometric Saturation and Terrain Occlusion Quality Assessment Band │\n",
              "│ qa_aerosol       │ Aerosol Quality Assessment Band                                      │\n",
              "│ tilejson         │ TileJSON with default rendering                                      │\n",
              "│ rendered_preview │ Rendered preview                                                     │\n",
              "└──────────────────┴──────────────────────────────────────────────────────────────────────┘\n",
              "</pre>\n"
            ]
          },
          "metadata": {},
          "execution_count": 6
        }
      ]
    },
    {
      "cell_type": "code",
      "source": [
        "selected_item.assets[\"rendered_preview\"].to_dict()"
      ],
      "metadata": {
        "colab": {
          "base_uri": "https://localhost:8080/"
        },
        "id": "qQG9ID8vrNmU",
        "outputId": "fcf128ee-4402-40fa-d383-8e91036d3921"
      },
      "execution_count": 7,
      "outputs": [
        {
          "output_type": "execute_result",
          "data": {
            "text/plain": [
              "{'href': 'https://planetarycomputer.microsoft.com/api/data/v1/item/preview.png?collection=landsat-c2-l2&item=LC08_L2SP_047027_20201204_02_T1&assets=red&assets=green&assets=blue&color_formula=gamma+RGB+2.7%2C+saturation+1.5%2C+sigmoidal+RGB+15+0.55&format=png',\n",
              " 'type': 'image/png',\n",
              " 'title': 'Rendered preview',\n",
              " 'rel': 'preview',\n",
              " 'roles': ['overview']}"
            ]
          },
          "metadata": {},
          "execution_count": 7
        }
      ]
    },
    {
      "cell_type": "code",
      "source": [
        "from IPython.display import Image\n",
        "\n",
        "Image(url=selected_item.assets[\"rendered_preview\"].href, width=500)"
      ],
      "metadata": {
        "colab": {
          "base_uri": "https://localhost:8080/",
          "height": 528
        },
        "id": "qtNcgyyCrQuM",
        "outputId": "8eca7dfb-3d19-4e23-f5af-40027d72a837"
      },
      "execution_count": 8,
      "outputs": [
        {
          "output_type": "execute_result",
          "data": {
            "text/html": [
              "<img src=\"https://planetarycomputer.microsoft.com/api/data/v1/item/preview.png?collection=landsat-c2-l2&item=LC08_L2SP_047027_20201204_02_T1&assets=red&assets=green&assets=blue&color_formula=gamma+RGB+2.7%2C+saturation+1.5%2C+sigmoidal+RGB+15+0.55&format=png\" width=\"500\"/>"
            ],
            "text/plain": [
              "<IPython.core.display.Image object>"
            ]
          },
          "metadata": {},
          "execution_count": 8
        }
      ]
    },
    {
      "cell_type": "code",
      "source": [
        "selected_item.assets[\"blue\"].href[:250]"
      ],
      "metadata": {
        "colab": {
          "base_uri": "https://localhost:8080/",
          "height": 53
        },
        "id": "hKheLwkUrjrv",
        "outputId": "2e24da3c-df9d-40ec-981b-7634ac3c0fec"
      },
      "execution_count": 9,
      "outputs": [
        {
          "output_type": "execute_result",
          "data": {
            "text/plain": [
              "'https://landsateuwest.blob.core.windows.net/landsat-c2/level-2/standard/oli-tirs/2020/047/027/LC08_L2SP_047027_20201204_20210313_02_T1/LC08_L2SP_047027_20201204_20210313_02_T1_SR_B2.TIF?st=2024-03-10T22%3A39%3A37Z&se=2024-03-11T23%3A24%3A37Z&sp=rl&sv'"
            ],
            "application/vnd.google.colaboratory.intrinsic+json": {
              "type": "string"
            }
          },
          "metadata": {},
          "execution_count": 9
        }
      ]
    },
    {
      "cell_type": "code",
      "source": [
        "import requests\n",
        "\n",
        "requests.head(selected_item.assets[\"blue\"].href).status_code"
      ],
      "metadata": {
        "colab": {
          "base_uri": "https://localhost:8080/"
        },
        "id": "LW31EYD0r3Av",
        "outputId": "7ab19065-175d-46fd-9cd8-51cf424c53c2"
      },
      "execution_count": 10,
      "outputs": [
        {
          "output_type": "execute_result",
          "data": {
            "text/plain": [
              "200"
            ]
          },
          "metadata": {},
          "execution_count": 10
        }
      ]
    },
    {
      "cell_type": "code",
      "source": [
        "# import xarray as xr\n",
        "import rioxarray\n",
        "\n",
        "ds = rioxarray.open_rasterio(\n",
        "    selected_item.assets[\"blue\"].href, overview_level=4\n",
        ").squeeze()\n",
        "img = ds.plot(cmap=\"Blues\", add_colorbar=False)\n",
        "img.axes.set_axis_off();"
      ],
      "metadata": {
        "colab": {
          "base_uri": "https://localhost:8080/",
          "height": 428
        },
        "id": "UKrEQbeeuDIz",
        "outputId": "0d612e63-5559-401f-b4e5-95509d258e3a"
      },
      "execution_count": 20,
      "outputs": [
        {
          "output_type": "display_data",
          "data": {
            "text/plain": [
              "<Figure size 640x480 with 1 Axes>"
            ],
            "image/png": "[encoded data removed]"
          },
          "metadata": {}
        }
      ]
    },
    {
      "cell_type": "code",
      "source": [
        "ds"
      ],
      "metadata": {
        "id": "-pBL0WUtu_kX"
      },
      "execution_count": null,
      "outputs": []
    },
    {
      "cell_type": "code",
      "source": [
        "img"
      ],
      "metadata": {
        "colab": {
          "base_uri": "https://localhost:8080/"
        },
        "id": "K_ZB0kQfu_he",
        "outputId": "c05a7b71-f574-4b6d-c4b4-2fecdf35b4f0"
      },
      "execution_count": 25,
      "outputs": [
        {
          "output_type": "execute_result",
          "data": {
            "text/plain": [
              "<matplotlib.collections.QuadMesh at 0x7c50e8693fd0>"
            ]
          },
          "metadata": {},
          "execution_count": 25
        }
      ]
    },
    {
      "cell_type": "code",
      "source": [],
      "metadata": {
        "id": "ghWZD74Xu_ew"
      },
      "execution_count": null,
      "outputs": []
    },
    {
      "cell_type": "code",
      "source": [
        "##Retrieve the file size of the COG\n",
        "\n",
        "# Send an HTTP HEAD request\n",
        "response = requests.head(selected_item.assets[\"blue\"].href)\n",
        "\n",
        "if response.status_code == 200:\n",
        "    # Check if 'Content-Length' header is available\n",
        "    if 'Content-Length' in response.headers:\n",
        "        file_size_bytes = int(response.headers['Content-Length'])\n",
        "        print(f\"File Size: {file_size_bytes} bytes\")\n",
        "    else:\n",
        "        print(\"Content-Length header is not available.\")\n",
        "else:\n",
        "    print(f\"Failed to access the file. Status code: {response.status_code}\")"
      ],
      "metadata": {
        "colab": {
          "base_uri": "https://localhost:8080/"
        },
        "id": "iuO4nK1xs82N",
        "outputId": "f2fccce4-88d5-4dac-f2d3-874e33ff6dc3"
      },
      "execution_count": 21,
      "outputs": [
        {
          "output_type": "stream",
          "name": "stdout",
          "text": [
            "File Size: 78925124 bytes\n"
          ]
        }
      ]
    }
  ]
}