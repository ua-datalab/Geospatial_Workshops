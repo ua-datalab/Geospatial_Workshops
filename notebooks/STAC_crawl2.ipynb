{
  "nbformat": 4,
  "nbformat_minor": 0,
  "metadata": {
    "colab": {
      "provenance": [],
      "authorship_tag": "ABX9TyNukdozU0AIfH2EGV0Pm0YV",
      "include_colab_link": true
    },
    "kernelspec": {
      "name": "python3",
      "display_name": "Python 3"
    },
    "language_info": {
      "name": "python"
    }
  },
  "cells": [
    {
      "cell_type": "markdown",
      "metadata": {
        "id": "view-in-github",
        "colab_type": "text"
      },
      "source": [
        "<a href=\"https://colab.research.google.com/github/ua-datalab/Geospatial_Workshops/blob/main/notebooks/STAC_crawl2.ipynb\" target=\"_parent\"><img src=\"https://colab.research.google.com/assets/colab-badge.svg\" alt=\"Open In Colab\"/></a>"
      ]
    },
    {
      "cell_type": "code",
      "execution_count": null,
      "metadata": {
        "id": "Tjm8JImJqpig"
      },
      "outputs": [],
      "source": [
        "# Install pystac_client. This library is used to crawl SpatioTemporal Asset Catalogs (STAC)\n",
        "!pip install pystac_client --quiet\n",
        "!pip install planetary_computer --quiet"
      ]
    },
    {
      "cell_type": "code",
      "source": [
        "##Install library to work with raster images\n",
        "\n",
        "!pip install rasterio --quiet"
      ],
      "metadata": {
        "id": "iR6911YgtYMf"
      },
      "execution_count": null,
      "outputs": []
    },
    {
      "cell_type": "code",
      "source": [
        "!pip install rioxarray"
      ],
      "metadata": {
        "id": "8_37wVYJuhte"
      },
      "execution_count": null,
      "outputs": []
    },
    {
      "cell_type": "code",
      "source": [
        "import rasterio\n",
        "from rasterio.plot import show\n",
        "import matplotlib.pyplot as plt\n",
        "import requests\n",
        "import numpy as np"
      ],
      "metadata": {
        "id": "SPoRF-M8tdKX"
      },
      "execution_count": 14,
      "outputs": []
    },
    {
      "cell_type": "code",
      "source": [
        "import pystac_client\n",
        "import planetary_computer\n",
        "\n",
        "catalog = pystac_client.Client.open(\n",
        "    \"https://planetarycomputer.microsoft.com/api/stac/v1\",\n",
        "    modifier=planetary_computer.sign_inplace,\n",
        ")"
      ],
      "metadata": {
        "id": "j1mgkHQXq2Zz"
      },
      "execution_count": 2,
      "outputs": []
    },
    {
      "cell_type": "code",
      "source": [
        "#from pystac_client import Client\n",
        "collections = list(catalog.get_collections())\n",
        "\n",
        "# Print the number of collections\n",
        "print(f\"Number of collections in the base catalog: {len(collections)}\")"
      ],
      "metadata": {
        "id": "1-iYtjUcxeZ9"
      },
      "execution_count": null,
      "outputs": []
    },
    {
      "cell_type": "code",
      "source": [
        "time_range = \"2020-12-01/2020-12-31\"\n",
        "bbox = [-122.2751, 47.5469, -121.9613, 47.7458]\n",
        "\n",
        "search = catalog.search(collections=[\"landsat-c2-l2\"], bbox=bbox, datetime=time_range)\n",
        "items = search.get_all_items()\n",
        "len(items)\n",
        "\n"
      ],
      "metadata": {
        "id": "scfnloHoq9Qa"
      },
      "execution_count": null,
      "outputs": []
    },
    {
      "cell_type": "code",
      "source": [
        "for item in items:\n",
        "    print(f\"Item ID: {item.id}\")\n",
        "\n",
        "    # Print the asset names (keys) for each item\n",
        "    print(\"Assets:\")\n",
        "    for asset_key in item.assets:\n",
        "        print(f\"  - {asset_key}: {item.assets[asset_key].href}\")\n",
        "    print(\"---------------------------------------------------\")"
      ],
      "metadata": {
        "id": "4XoF-Zv1ypAy"
      },
      "execution_count": null,
      "outputs": []
    },
    {
      "cell_type": "code",
      "source": [
        "import geopandas\n",
        "\n",
        "df = geopandas.GeoDataFrame.from_features(items.to_dict(), crs=\"epsg:4326\")\n",
        "df"
      ],
      "metadata": {
        "id": "2IeEzivjrDKq"
      },
      "execution_count": null,
      "outputs": []
    },
    {
      "cell_type": "code",
      "source": [
        "selected_item = min(items, key=lambda item: item.properties[\"eo:cloud_cover\"])\n",
        "print(selected_item)"
      ],
      "metadata": {
        "id": "YNtgpdPqrIaD"
      },
      "execution_count": null,
      "outputs": []
    },
    {
      "cell_type": "code",
      "source": [
        "import rich.table\n",
        "\n",
        "table = rich.table.Table(\"Asset Key\", \"Description\")\n",
        "for asset_key, asset in selected_item.assets.items():\n",
        "    table.add_row(asset_key, asset.title)\n",
        "\n",
        "table"
      ],
      "metadata": {
        "id": "cvBFVZRlrLJL"
      },
      "execution_count": null,
      "outputs": []
    },
    {
      "cell_type": "code",
      "source": [
        "selected_item.assets[\"rendered_preview\"].to_dict()"
      ],
      "metadata": {
        "colab": {
          "base_uri": "https://localhost:8080/"
        },
        "id": "qQG9ID8vrNmU",
        "outputId": "fcf128ee-4402-40fa-d383-8e91036d3921"
      },
      "execution_count": 7,
      "outputs": [
        {
          "output_type": "execute_result",
          "data": {
            "text/plain": [
              "{'href': 'https://planetarycomputer.microsoft.com/api/data/v1/item/preview.png?collection=landsat-c2-l2&item=LC08_L2SP_047027_20201204_02_T1&assets=red&assets=green&assets=blue&color_formula=gamma+RGB+2.7%2C+saturation+1.5%2C+sigmoidal+RGB+15+0.55&format=png',\n",
              " 'type': 'image/png',\n",
              " 'title': 'Rendered preview',\n",
              " 'rel': 'preview',\n",
              " 'roles': ['overview']}"
            ]
          },
          "metadata": {},
          "execution_count": 7
        }
      ]
    },
    {
      "cell_type": "code",
      "source": [
        "from IPython.display import Image\n",
        "\n",
        "Image(url=selected_item.assets[\"rendered_preview\"].href, width=500)"
      ],
      "metadata": {
        "id": "qtNcgyyCrQuM"
      },
      "execution_count": null,
      "outputs": []
    },
    {
      "cell_type": "code",
      "source": [
        "selected_item.assets[\"blue\"].href[:250]"
      ],
      "metadata": {
        "id": "hKheLwkUrjrv"
      },
      "execution_count": null,
      "outputs": []
    },
    {
      "cell_type": "code",
      "source": [
        "import requests\n",
        "\n",
        "requests.head(selected_item.assets[\"blue\"].href).status_code"
      ],
      "metadata": {
        "id": "LW31EYD0r3Av"
      },
      "execution_count": null,
      "outputs": []
    },
    {
      "cell_type": "code",
      "source": [
        "# import xarray as xr\n",
        "import rioxarray\n",
        "\n",
        "ds = rioxarray.open_rasterio(\n",
        "    selected_item.assets[\"blue\"].href, overview_level=4\n",
        ").squeeze()\n",
        "img = ds.plot(cmap=\"Blues\", add_colorbar=False)\n",
        "img.axes.set_axis_off();"
      ],
      "metadata": {
        "id": "UKrEQbeeuDIz"
      },
      "execution_count": null,
      "outputs": []
    },
    {
      "cell_type": "code",
      "source": [
        "ds"
      ],
      "metadata": {
        "id": "-pBL0WUtu_kX"
      },
      "execution_count": null,
      "outputs": []
    },
    {
      "cell_type": "code",
      "source": [
        "img"
      ],
      "metadata": {
        "id": "K_ZB0kQfu_he"
      },
      "execution_count": null,
      "outputs": []
    },
    {
      "cell_type": "code",
      "source": [],
      "metadata": {
        "id": "ghWZD74Xu_ew"
      },
      "execution_count": null,
      "outputs": []
    },
    {
      "cell_type": "code",
      "source": [
        "##Retrieve the file size of the COG\n",
        "\n",
        "# Send an HTTP HEAD request\n",
        "response = requests.head(selected_item.assets[\"blue\"].href)\n",
        "\n",
        "if response.status_code == 200:\n",
        "    # Check if 'Content-Length' header is available\n",
        "    if 'Content-Length' in response.headers:\n",
        "        file_size_bytes = int(response.headers['Content-Length'])\n",
        "        print(f\"File Size: {file_size_bytes} bytes\")\n",
        "    else:\n",
        "        print(\"Content-Length header is not available.\")\n",
        "else:\n",
        "    print(f\"Failed to access the file. Status code: {response.status_code}\")"
      ],
      "metadata": {
        "id": "iuO4nK1xs82N"
      },
      "execution_count": null,
      "outputs": []
    }
  ]
}