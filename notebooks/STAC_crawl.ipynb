{
  "nbformat": 4,
  "nbformat_minor": 0,
  "metadata": {
    "colab": {
      "provenance": [],
      "authorship_tag": "ABX9TyNl3Mj28A1Qq9xybXP+Cyk8",
      "include_colab_link": true
    },
    "kernelspec": {
      "name": "python3",
      "display_name": "Python 3"
    },
    "language_info": {
      "name": "python"
    }
  },
  "cells": [
    {
      "cell_type": "markdown",
      "metadata": {
        "id": "view-in-github",
        "colab_type": "text"
      },
      "source": [
        "<a href=\"https://colab.research.google.com/github/ua-datalab/Geospatial_Workshops/blob/main/notebooks/STAC_crawl.ipynb\" target=\"_parent\"><img src=\"https://colab.research.google.com/assets/colab-badge.svg\" alt=\"Open In Colab\"/></a>"
      ]
    },
    {
      "cell_type": "code",
      "execution_count": 1,
      "metadata": {
        "id": "RV3TRHtNSJl_"
      },
      "outputs": [],
      "source": [
        "# Install pystac_client. This library is used to crawl SpatioTemporal Asset Catalogs (STAC)\n",
        "!pip install pystac_client --quiet\n",
        "!pip install planetary_computer --quiet"
      ]
    },
    {
      "cell_type": "code",
      "source": [
        "##Install library to work with raster images\n",
        "\n",
        "! pip install rasterio --quiet"
      ],
      "metadata": {
        "colab": {
          "base_uri": "https://localhost:8080/"
        },
        "id": "UIwLAP7jqtQw",
        "outputId": "132896e9-a7bd-438e-9ccc-eee10560cf16"
      },
      "execution_count": 16,
      "outputs": [
        {
          "output_type": "stream",
          "name": "stdout",
          "text": [
            "\u001b[2K     \u001b[90m━━━━━━━━━━━━━━━━━━━━━━━━━━━━━━━━━━━━━━━━\u001b[0m \u001b[32m20.6/20.6 MB\u001b[0m \u001b[31m50.5 MB/s\u001b[0m eta \u001b[36m0:00:00\u001b[0m\n",
            "\u001b[?25h"
          ]
        }
      ]
    },
    {
      "cell_type": "code",
      "source": [
        "#Bring the libraries into the running environment\n",
        "\n",
        "import pystac_client\n",
        "import planetary_computer"
      ],
      "metadata": {
        "id": "DzXuy4ByTq6k"
      },
      "execution_count": 2,
      "outputs": []
    },
    {
      "cell_type": "code",
      "source": [
        "import rasterio\n",
        "from rasterio.plot import show\n",
        "import matplotlib.pyplot as plt\n",
        "import requests\n",
        "import numpy as np\n",
        "\n",
        "\n",
        "\n"
      ],
      "metadata": {
        "id": "tOtOweoYqB6a"
      },
      "execution_count": 38,
      "outputs": []
    },
    {
      "cell_type": "code",
      "source": [
        "import requests"
      ],
      "metadata": {
        "id": "1y2c1KdxvRMv"
      },
      "execution_count": 29,
      "outputs": []
    },
    {
      "cell_type": "code",
      "source": [
        "from pystac_client import Client\n",
        "catalog = Client.open('https://landsatlook.usgs.gov/stac-server/')\n",
        "catalog.title\n",
        "\n",
        "collections = list(catalog.get_collections())\n",
        "\n",
        "# Print the number of collections\n",
        "print(f\"Number of collections in the base catalog: {len(collections)}\")\n"
      ],
      "metadata": {
        "colab": {
          "base_uri": "https://localhost:8080/"
        },
        "id": "NrNwSPilW0gg",
        "outputId": "6e7b1a5f-3c14-47bd-a54a-83b42984c961"
      },
      "execution_count": 8,
      "outputs": [
        {
          "output_type": "stream",
          "name": "stdout",
          "text": [
            "Number of collections in the base catalog: 14\n"
          ]
        }
      ]
    },
    {
      "cell_type": "code",
      "source": [
        "# Print the names (or IDs) and descriptions of each collection\n",
        "for collection in collections:\n",
        "    print(f\"ID: {collection.id}\")\n",
        "    print(f\"Title: {collection.title}\")  # Optional: if you want to print the title as well\n",
        "    print(f\"Description: {collection.description}\")"
      ],
      "metadata": {
        "colab": {
          "base_uri": "https://localhost:8080/"
        },
        "id": "v8iAvHpFkwQ_",
        "outputId": "7d575cb2-77c9-4026-9c59-5ab04f2af87b"
      },
      "execution_count": 10,
      "outputs": [
        {
          "output_type": "stream",
          "name": "stdout",
          "text": [
            "ID: landsat-c2l2-sr\n",
            "Title: Landsat Collection 2 Level-2 UTM Surface Reflectance (SR) Product\n",
            "Description: The Landsat Surface Reflectance (SR) product measures the fraction of incoming solar radiation that is reflected from Earth's surface to the Landsat sensor.\n",
            "ID: landsat-c2l2-st\n",
            "Title: Landsat Collection 2 Level-2 UTM Surface Temperature (ST) Product\n",
            "Description: The Landsat Surface Temperature (ST) product represents the temperature of the Earth's surface in Kelvin (K).\n",
            "ID: landsat-c2ard-st\n",
            "Title: Landsat Collection 2 Analysis Ready Data (ARD) Level-2 UTM Surface Temperature (ST) Product\n",
            "Description: The Landsat Surface Temperature (ST) product represents the temperature of the Earth's surface in Kelvin (K).\n",
            "ID: landsat-c2l2alb-bt\n",
            "Title: Landsat Collection 2 Level-2 Albers Top of Atmosphere Brightness Temperature (BT) Product\n",
            "Description: The Landsat Top of Atmosphere Brightness Temperature (BT) product is a top of atmosphere product with radiance calculated 'at-sensor', not atmospherically corrected, and expressed in units of Kelvin.\n",
            "ID: landsat-c2l3-fsca\n",
            "Title: Landsat Collection 2 Level-3 Fractional Snow Covered Area (fSCA) Product\n",
            "Description: The Landsat Fractional Snow Covered Area (fSCA) product contains an acquisition-based per-pixel snow cover fraction, an acquisition-based revised cloud mask for quality assessment, and a product metadata file.\n",
            "ID: landsat-c2ard-bt\n",
            "Title: Landsat Collection 2 Analysis Ready Data (ARD) Level-2 UTM Top of Atmosphere Brightness Temperature (BT) Product\n",
            "Description: The Landsat Top of Atmosphere Brightness Temperature (BT) product is a top of atmosphere product with radiance calculated 'at-sensor', not atmospherically corrected, and expressed in units of Kelvin.\n",
            "ID: landsat-c2l1\n",
            "Title: Landsat Collection 2 Level-1 Product\n",
            "Description: The Landsat Level-1 product is a top of atmosphere product distributed as scaled and calibrated digital numbers.\n",
            "ID: landsat-c2l3-ba\n",
            "Title: Landsat Collection 2 Level-3 Burned Area (BA) Product\n",
            "Description: The Landsat Burned Area (BA) contains two acquisition-based raster data products that represent burn classification and burn probability.\n",
            "ID: landsat-c2l2alb-st\n",
            "Title: Landsat Collection 2 Level-2 Albers Surface Temperature (ST) Product\n",
            "Description: The Landsat Surface Temperature (ST) product represents the temperature of the Earth's surface in Kelvin (K).\n",
            "ID: landsat-c2ard-sr\n",
            "Title: Landsat Collection 2 Analysis Ready Data (ARD) Level-2 UTM Surface Reflectance (SR) Product\n",
            "Description: The Landsat Surface Reflectance (SR) product measures the fraction of incoming solar radiation that is reflected from Earth's surface to the Landsat sensor.\n",
            "ID: landsat-c2l2alb-sr\n",
            "Title: Landsat Collection 2 Level-2 Albers Surface Reflectance (SR) Product\n",
            "Description: The Landsat Surface Reflectance (SR) product measures the fraction of incoming solar radiation that is reflected from Earth's surface to the Landsat sensor.\n",
            "ID: landsat-c2l2alb-ta\n",
            "Title: Landsat Collection 2 Level-2 Albers Top of Atmosphere (TA) Reflectance Product\n",
            "Description: The Landsat Top of Atmosphere (TA) Reflectance product applies per pixel angle band corrections to the Level-1 radiance product.\n",
            "ID: landsat-c2l3-dswe\n",
            "Title: Landsat Collection 2 Level-3 Dynamic Surface Water Extent (DSWE) Product\n",
            "Description: The Landsat Dynamic Surface Water Extent (DSWE) product contains six acquisition-based raster data products pertaining to the existence and condition of surface water.\n",
            "ID: landsat-c2ard-ta\n",
            "Title: Landsat Collection 2 Analysis Ready Data (ARD) Level-2 UTM Top of Atmosphere (TA) Reflectance Product\n",
            "Description: The Landsat Top of Atmosphere (TA) Reflectance product applies per pixel angle band corrections to the Level-1 radiance product.\n"
          ]
        }
      ]
    },
    {
      "cell_type": "code",
      "source": [
        "#Do a temporal and geographic box search\n",
        "time_range = \"2020-12-01/2020-12-31\"\n",
        "bbox = [-111.185821, 32.047978, -110.690757, 32.41685]\n",
        "\n",
        "search = catalog.search(collections=[\"landsat-c2ard-sr\"], bbox=bbox, datetime=time_range)\n",
        "items = search.item_collection()\n",
        "\n",
        "# Print the total number of items found\n",
        "print(f\"Total number of items found: {len(items)}\")\n",
        "\n",
        "for item in items:\n",
        "    print(f\"Item ID: {item.id}\")\n",
        "\n",
        "    # Print the asset names (keys) for each item\n",
        "    print(\"Assets:\")\n",
        "    for asset_key in item.assets:\n",
        "        print(f\"  - {asset_key}: {item.assets[asset_key].href}\")\n",
        "    print(\"---------------------------------------------------\")"
      ],
      "metadata": {
        "colab": {
          "base_uri": "https://localhost:8080/"
        },
        "id": "pU7Fj2sQSXyP",
        "outputId": "ae06e41c-8716-4da4-bb98-4bda514708dc"
      },
      "execution_count": 37,
      "outputs": [
        {
          "output_type": "stream",
          "name": "stdout",
          "text": [
            "Total number of items found: 7\n",
            "Item ID: LE07_CU_007014_20201231_20210504_02_SR\n",
            "Assets:\n",
            "  - thumbnail: https://landsatlook.usgs.gov/tile/collection02/etm/2020/CU/007/014/LE07_CU_007014_20201231_20210504_02/LE07_CU_007014_20201231_20210504_02_thumb_small.jpeg\n",
            "  - reduced_resolution_browse: https://landsatlook.usgs.gov/tile/collection02/etm/2020/CU/007/014/LE07_CU_007014_20201231_20210504_02/LE07_CU_007014_20201231_20210504_02_thumb_large.jpeg\n",
            "  - index: https://landsatlook.usgs.gov/stac-browser/collection02/etm/2020/CU/007/014/LE07_CU_007014_20201231_20210504_02/LE07_CU_007014_20201231_20210504_02\n",
            "  - blue: https://landsatlook.usgs.gov/tile/collection02/etm/2020/CU/007/014/LE07_CU_007014_20201231_20210504_02/LE07_CU_007014_20201231_20210504_02_SR_B1.TIF\n",
            "  - green: https://landsatlook.usgs.gov/tile/collection02/etm/2020/CU/007/014/LE07_CU_007014_20201231_20210504_02/LE07_CU_007014_20201231_20210504_02_SR_B2.TIF\n",
            "  - red: https://landsatlook.usgs.gov/tile/collection02/etm/2020/CU/007/014/LE07_CU_007014_20201231_20210504_02/LE07_CU_007014_20201231_20210504_02_SR_B3.TIF\n",
            "  - nir08: https://landsatlook.usgs.gov/tile/collection02/etm/2020/CU/007/014/LE07_CU_007014_20201231_20210504_02/LE07_CU_007014_20201231_20210504_02_SR_B4.TIF\n",
            "  - swir16: https://landsatlook.usgs.gov/tile/collection02/etm/2020/CU/007/014/LE07_CU_007014_20201231_20210504_02/LE07_CU_007014_20201231_20210504_02_SR_B5.TIF\n",
            "  - swir22: https://landsatlook.usgs.gov/tile/collection02/etm/2020/CU/007/014/LE07_CU_007014_20201231_20210504_02/LE07_CU_007014_20201231_20210504_02_SR_B7.TIF\n",
            "  - atmos_opacity: https://landsatlook.usgs.gov/tile/collection02/etm/2020/CU/007/014/LE07_CU_007014_20201231_20210504_02/LE07_CU_007014_20201231_20210504_02_SR_ATMOS_OPACITY.TIF\n",
            "  - cloud_qa: https://landsatlook.usgs.gov/tile/collection02/etm/2020/CU/007/014/LE07_CU_007014_20201231_20210504_02/LE07_CU_007014_20201231_20210504_02_SR_CLOUD_QA.TIF\n",
            "  - qa_pixel: https://landsatlook.usgs.gov/tile/collection02/etm/2020/CU/007/014/LE07_CU_007014_20201231_20210504_02/LE07_CU_007014_20201231_20210504_02_QA_PIXEL.TIF\n",
            "  - qa_radsat: https://landsatlook.usgs.gov/tile/collection02/etm/2020/CU/007/014/LE07_CU_007014_20201231_20210504_02/LE07_CU_007014_20201231_20210504_02_QA_RADSAT.TIF\n",
            "  - qa_lineage: https://landsatlook.usgs.gov/tile/collection02/etm/2020/CU/007/014/LE07_CU_007014_20201231_20210504_02/LE07_CU_007014_20201231_20210504_02_QA_LINEAGE.TIF\n",
            "---------------------------------------------------\n",
            "Item ID: LE07_CU_007014_20201224_20210504_02_SR\n",
            "Assets:\n",
            "  - thumbnail: https://landsatlook.usgs.gov/tile/collection02/etm/2020/CU/007/014/LE07_CU_007014_20201224_20210504_02/LE07_CU_007014_20201224_20210504_02_thumb_small.jpeg\n",
            "  - reduced_resolution_browse: https://landsatlook.usgs.gov/tile/collection02/etm/2020/CU/007/014/LE07_CU_007014_20201224_20210504_02/LE07_CU_007014_20201224_20210504_02_thumb_large.jpeg\n",
            "  - index: https://landsatlook.usgs.gov/stac-browser/collection02/etm/2020/CU/007/014/LE07_CU_007014_20201224_20210504_02/LE07_CU_007014_20201224_20210504_02\n",
            "  - blue: https://landsatlook.usgs.gov/tile/collection02/etm/2020/CU/007/014/LE07_CU_007014_20201224_20210504_02/LE07_CU_007014_20201224_20210504_02_SR_B1.TIF\n",
            "  - green: https://landsatlook.usgs.gov/tile/collection02/etm/2020/CU/007/014/LE07_CU_007014_20201224_20210504_02/LE07_CU_007014_20201224_20210504_02_SR_B2.TIF\n",
            "  - red: https://landsatlook.usgs.gov/tile/collection02/etm/2020/CU/007/014/LE07_CU_007014_20201224_20210504_02/LE07_CU_007014_20201224_20210504_02_SR_B3.TIF\n",
            "  - nir08: https://landsatlook.usgs.gov/tile/collection02/etm/2020/CU/007/014/LE07_CU_007014_20201224_20210504_02/LE07_CU_007014_20201224_20210504_02_SR_B4.TIF\n",
            "  - swir16: https://landsatlook.usgs.gov/tile/collection02/etm/2020/CU/007/014/LE07_CU_007014_20201224_20210504_02/LE07_CU_007014_20201224_20210504_02_SR_B5.TIF\n",
            "  - swir22: https://landsatlook.usgs.gov/tile/collection02/etm/2020/CU/007/014/LE07_CU_007014_20201224_20210504_02/LE07_CU_007014_20201224_20210504_02_SR_B7.TIF\n",
            "  - atmos_opacity: https://landsatlook.usgs.gov/tile/collection02/etm/2020/CU/007/014/LE07_CU_007014_20201224_20210504_02/LE07_CU_007014_20201224_20210504_02_SR_ATMOS_OPACITY.TIF\n",
            "  - cloud_qa: https://landsatlook.usgs.gov/tile/collection02/etm/2020/CU/007/014/LE07_CU_007014_20201224_20210504_02/LE07_CU_007014_20201224_20210504_02_SR_CLOUD_QA.TIF\n",
            "  - qa_pixel: https://landsatlook.usgs.gov/tile/collection02/etm/2020/CU/007/014/LE07_CU_007014_20201224_20210504_02/LE07_CU_007014_20201224_20210504_02_QA_PIXEL.TIF\n",
            "  - qa_radsat: https://landsatlook.usgs.gov/tile/collection02/etm/2020/CU/007/014/LE07_CU_007014_20201224_20210504_02/LE07_CU_007014_20201224_20210504_02_QA_RADSAT.TIF\n",
            "  - qa_lineage: https://landsatlook.usgs.gov/tile/collection02/etm/2020/CU/007/014/LE07_CU_007014_20201224_20210504_02/LE07_CU_007014_20201224_20210504_02_QA_LINEAGE.TIF\n",
            "---------------------------------------------------\n",
            "Item ID: LC08_CU_007014_20201223_20210504_02_SR\n",
            "Assets:\n",
            "  - thumbnail: https://landsatlook.usgs.gov/tile/collection02/oli-tirs/2020/CU/007/014/LC08_CU_007014_20201223_20210504_02/LC08_CU_007014_20201223_20210504_02_thumb_small.jpeg\n",
            "  - reduced_resolution_browse: https://landsatlook.usgs.gov/tile/collection02/oli-tirs/2020/CU/007/014/LC08_CU_007014_20201223_20210504_02/LC08_CU_007014_20201223_20210504_02_thumb_large.jpeg\n",
            "  - index: https://landsatlook.usgs.gov/stac-browser/collection02/oli-tirs/2020/CU/007/014/LC08_CU_007014_20201223_20210504_02/LC08_CU_007014_20201223_20210504_02\n",
            "  - coastal: https://landsatlook.usgs.gov/tile/collection02/oli-tirs/2020/CU/007/014/LC08_CU_007014_20201223_20210504_02/LC08_CU_007014_20201223_20210504_02_SR_B1.TIF\n",
            "  - blue: https://landsatlook.usgs.gov/tile/collection02/oli-tirs/2020/CU/007/014/LC08_CU_007014_20201223_20210504_02/LC08_CU_007014_20201223_20210504_02_SR_B2.TIF\n",
            "  - green: https://landsatlook.usgs.gov/tile/collection02/oli-tirs/2020/CU/007/014/LC08_CU_007014_20201223_20210504_02/LC08_CU_007014_20201223_20210504_02_SR_B3.TIF\n",
            "  - red: https://landsatlook.usgs.gov/tile/collection02/oli-tirs/2020/CU/007/014/LC08_CU_007014_20201223_20210504_02/LC08_CU_007014_20201223_20210504_02_SR_B4.TIF\n",
            "  - nir08: https://landsatlook.usgs.gov/tile/collection02/oli-tirs/2020/CU/007/014/LC08_CU_007014_20201223_20210504_02/LC08_CU_007014_20201223_20210504_02_SR_B5.TIF\n",
            "  - swir16: https://landsatlook.usgs.gov/tile/collection02/oli-tirs/2020/CU/007/014/LC08_CU_007014_20201223_20210504_02/LC08_CU_007014_20201223_20210504_02_SR_B6.TIF\n",
            "  - swir22: https://landsatlook.usgs.gov/tile/collection02/oli-tirs/2020/CU/007/014/LC08_CU_007014_20201223_20210504_02/LC08_CU_007014_20201223_20210504_02_SR_B7.TIF\n",
            "  - qa_aerosol: https://landsatlook.usgs.gov/tile/collection02/oli-tirs/2020/CU/007/014/LC08_CU_007014_20201223_20210504_02/LC08_CU_007014_20201223_20210504_02_SR_QA_AEROSOL.TIF\n",
            "  - qa_pixel: https://landsatlook.usgs.gov/tile/collection02/oli-tirs/2020/CU/007/014/LC08_CU_007014_20201223_20210504_02/LC08_CU_007014_20201223_20210504_02_QA_PIXEL.TIF\n",
            "  - qa_radsat: https://landsatlook.usgs.gov/tile/collection02/oli-tirs/2020/CU/007/014/LC08_CU_007014_20201223_20210504_02/LC08_CU_007014_20201223_20210504_02_QA_RADSAT.TIF\n",
            "  - qa_lineage: https://landsatlook.usgs.gov/tile/collection02/oli-tirs/2020/CU/007/014/LC08_CU_007014_20201223_20210504_02/LC08_CU_007014_20201223_20210504_02_QA_LINEAGE.TIF\n",
            "---------------------------------------------------\n",
            "Item ID: LC08_CU_007014_20201216_20210504_02_SR\n",
            "Assets:\n",
            "  - thumbnail: https://landsatlook.usgs.gov/tile/collection02/oli-tirs/2020/CU/007/014/LC08_CU_007014_20201216_20210504_02/LC08_CU_007014_20201216_20210504_02_thumb_small.jpeg\n",
            "  - reduced_resolution_browse: https://landsatlook.usgs.gov/tile/collection02/oli-tirs/2020/CU/007/014/LC08_CU_007014_20201216_20210504_02/LC08_CU_007014_20201216_20210504_02_thumb_large.jpeg\n",
            "  - index: https://landsatlook.usgs.gov/stac-browser/collection02/oli-tirs/2020/CU/007/014/LC08_CU_007014_20201216_20210504_02/LC08_CU_007014_20201216_20210504_02\n",
            "  - coastal: https://landsatlook.usgs.gov/tile/collection02/oli-tirs/2020/CU/007/014/LC08_CU_007014_20201216_20210504_02/LC08_CU_007014_20201216_20210504_02_SR_B1.TIF\n",
            "  - blue: https://landsatlook.usgs.gov/tile/collection02/oli-tirs/2020/CU/007/014/LC08_CU_007014_20201216_20210504_02/LC08_CU_007014_20201216_20210504_02_SR_B2.TIF\n",
            "  - green: https://landsatlook.usgs.gov/tile/collection02/oli-tirs/2020/CU/007/014/LC08_CU_007014_20201216_20210504_02/LC08_CU_007014_20201216_20210504_02_SR_B3.TIF\n",
            "  - red: https://landsatlook.usgs.gov/tile/collection02/oli-tirs/2020/CU/007/014/LC08_CU_007014_20201216_20210504_02/LC08_CU_007014_20201216_20210504_02_SR_B4.TIF\n",
            "  - nir08: https://landsatlook.usgs.gov/tile/collection02/oli-tirs/2020/CU/007/014/LC08_CU_007014_20201216_20210504_02/LC08_CU_007014_20201216_20210504_02_SR_B5.TIF\n",
            "  - swir16: https://landsatlook.usgs.gov/tile/collection02/oli-tirs/2020/CU/007/014/LC08_CU_007014_20201216_20210504_02/LC08_CU_007014_20201216_20210504_02_SR_B6.TIF\n",
            "  - swir22: https://landsatlook.usgs.gov/tile/collection02/oli-tirs/2020/CU/007/014/LC08_CU_007014_20201216_20210504_02/LC08_CU_007014_20201216_20210504_02_SR_B7.TIF\n",
            "  - qa_aerosol: https://landsatlook.usgs.gov/tile/collection02/oli-tirs/2020/CU/007/014/LC08_CU_007014_20201216_20210504_02/LC08_CU_007014_20201216_20210504_02_SR_QA_AEROSOL.TIF\n",
            "  - qa_pixel: https://landsatlook.usgs.gov/tile/collection02/oli-tirs/2020/CU/007/014/LC08_CU_007014_20201216_20210504_02/LC08_CU_007014_20201216_20210504_02_QA_PIXEL.TIF\n",
            "  - qa_radsat: https://landsatlook.usgs.gov/tile/collection02/oli-tirs/2020/CU/007/014/LC08_CU_007014_20201216_20210504_02/LC08_CU_007014_20201216_20210504_02_QA_RADSAT.TIF\n",
            "  - qa_lineage: https://landsatlook.usgs.gov/tile/collection02/oli-tirs/2020/CU/007/014/LC08_CU_007014_20201216_20210504_02/LC08_CU_007014_20201216_20210504_02_QA_LINEAGE.TIF\n",
            "---------------------------------------------------\n",
            "Item ID: LE07_CU_007014_20201215_20210504_02_SR\n",
            "Assets:\n",
            "  - thumbnail: https://landsatlook.usgs.gov/tile/collection02/etm/2020/CU/007/014/LE07_CU_007014_20201215_20210504_02/LE07_CU_007014_20201215_20210504_02_thumb_small.jpeg\n",
            "  - reduced_resolution_browse: https://landsatlook.usgs.gov/tile/collection02/etm/2020/CU/007/014/LE07_CU_007014_20201215_20210504_02/LE07_CU_007014_20201215_20210504_02_thumb_large.jpeg\n",
            "  - index: https://landsatlook.usgs.gov/stac-browser/collection02/etm/2020/CU/007/014/LE07_CU_007014_20201215_20210504_02/LE07_CU_007014_20201215_20210504_02\n",
            "  - blue: https://landsatlook.usgs.gov/tile/collection02/etm/2020/CU/007/014/LE07_CU_007014_20201215_20210504_02/LE07_CU_007014_20201215_20210504_02_SR_B1.TIF\n",
            "  - green: https://landsatlook.usgs.gov/tile/collection02/etm/2020/CU/007/014/LE07_CU_007014_20201215_20210504_02/LE07_CU_007014_20201215_20210504_02_SR_B2.TIF\n",
            "  - red: https://landsatlook.usgs.gov/tile/collection02/etm/2020/CU/007/014/LE07_CU_007014_20201215_20210504_02/LE07_CU_007014_20201215_20210504_02_SR_B3.TIF\n",
            "  - nir08: https://landsatlook.usgs.gov/tile/collection02/etm/2020/CU/007/014/LE07_CU_007014_20201215_20210504_02/LE07_CU_007014_20201215_20210504_02_SR_B4.TIF\n",
            "  - swir16: https://landsatlook.usgs.gov/tile/collection02/etm/2020/CU/007/014/LE07_CU_007014_20201215_20210504_02/LE07_CU_007014_20201215_20210504_02_SR_B5.TIF\n",
            "  - swir22: https://landsatlook.usgs.gov/tile/collection02/etm/2020/CU/007/014/LE07_CU_007014_20201215_20210504_02/LE07_CU_007014_20201215_20210504_02_SR_B7.TIF\n",
            "  - atmos_opacity: https://landsatlook.usgs.gov/tile/collection02/etm/2020/CU/007/014/LE07_CU_007014_20201215_20210504_02/LE07_CU_007014_20201215_20210504_02_SR_ATMOS_OPACITY.TIF\n",
            "  - cloud_qa: https://landsatlook.usgs.gov/tile/collection02/etm/2020/CU/007/014/LE07_CU_007014_20201215_20210504_02/LE07_CU_007014_20201215_20210504_02_SR_CLOUD_QA.TIF\n",
            "  - qa_pixel: https://landsatlook.usgs.gov/tile/collection02/etm/2020/CU/007/014/LE07_CU_007014_20201215_20210504_02/LE07_CU_007014_20201215_20210504_02_QA_PIXEL.TIF\n",
            "  - qa_radsat: https://landsatlook.usgs.gov/tile/collection02/etm/2020/CU/007/014/LE07_CU_007014_20201215_20210504_02/LE07_CU_007014_20201215_20210504_02_QA_RADSAT.TIF\n",
            "  - qa_lineage: https://landsatlook.usgs.gov/tile/collection02/etm/2020/CU/007/014/LE07_CU_007014_20201215_20210504_02/LE07_CU_007014_20201215_20210504_02_QA_LINEAGE.TIF\n",
            "---------------------------------------------------\n",
            "Item ID: LE07_CU_007014_20201208_20210504_02_SR\n",
            "Assets:\n",
            "  - thumbnail: https://landsatlook.usgs.gov/tile/collection02/etm/2020/CU/007/014/LE07_CU_007014_20201208_20210504_02/LE07_CU_007014_20201208_20210504_02_thumb_small.jpeg\n",
            "  - reduced_resolution_browse: https://landsatlook.usgs.gov/tile/collection02/etm/2020/CU/007/014/LE07_CU_007014_20201208_20210504_02/LE07_CU_007014_20201208_20210504_02_thumb_large.jpeg\n",
            "  - index: https://landsatlook.usgs.gov/stac-browser/collection02/etm/2020/CU/007/014/LE07_CU_007014_20201208_20210504_02/LE07_CU_007014_20201208_20210504_02\n",
            "  - blue: https://landsatlook.usgs.gov/tile/collection02/etm/2020/CU/007/014/LE07_CU_007014_20201208_20210504_02/LE07_CU_007014_20201208_20210504_02_SR_B1.TIF\n",
            "  - green: https://landsatlook.usgs.gov/tile/collection02/etm/2020/CU/007/014/LE07_CU_007014_20201208_20210504_02/LE07_CU_007014_20201208_20210504_02_SR_B2.TIF\n",
            "  - red: https://landsatlook.usgs.gov/tile/collection02/etm/2020/CU/007/014/LE07_CU_007014_20201208_20210504_02/LE07_CU_007014_20201208_20210504_02_SR_B3.TIF\n",
            "  - nir08: https://landsatlook.usgs.gov/tile/collection02/etm/2020/CU/007/014/LE07_CU_007014_20201208_20210504_02/LE07_CU_007014_20201208_20210504_02_SR_B4.TIF\n",
            "  - swir16: https://landsatlook.usgs.gov/tile/collection02/etm/2020/CU/007/014/LE07_CU_007014_20201208_20210504_02/LE07_CU_007014_20201208_20210504_02_SR_B5.TIF\n",
            "  - swir22: https://landsatlook.usgs.gov/tile/collection02/etm/2020/CU/007/014/LE07_CU_007014_20201208_20210504_02/LE07_CU_007014_20201208_20210504_02_SR_B7.TIF\n",
            "  - atmos_opacity: https://landsatlook.usgs.gov/tile/collection02/etm/2020/CU/007/014/LE07_CU_007014_20201208_20210504_02/LE07_CU_007014_20201208_20210504_02_SR_ATMOS_OPACITY.TIF\n",
            "  - cloud_qa: https://landsatlook.usgs.gov/tile/collection02/etm/2020/CU/007/014/LE07_CU_007014_20201208_20210504_02/LE07_CU_007014_20201208_20210504_02_SR_CLOUD_QA.TIF\n",
            "  - qa_pixel: https://landsatlook.usgs.gov/tile/collection02/etm/2020/CU/007/014/LE07_CU_007014_20201208_20210504_02/LE07_CU_007014_20201208_20210504_02_QA_PIXEL.TIF\n",
            "  - qa_radsat: https://landsatlook.usgs.gov/tile/collection02/etm/2020/CU/007/014/LE07_CU_007014_20201208_20210504_02/LE07_CU_007014_20201208_20210504_02_QA_RADSAT.TIF\n",
            "  - qa_lineage: https://landsatlook.usgs.gov/tile/collection02/etm/2020/CU/007/014/LE07_CU_007014_20201208_20210504_02/LE07_CU_007014_20201208_20210504_02_QA_LINEAGE.TIF\n",
            "---------------------------------------------------\n",
            "Item ID: LC08_CU_007014_20201207_20210504_02_SR\n",
            "Assets:\n",
            "  - thumbnail: https://landsatlook.usgs.gov/tile/collection02/oli-tirs/2020/CU/007/014/LC08_CU_007014_20201207_20210504_02/LC08_CU_007014_20201207_20210504_02_thumb_small.jpeg\n",
            "  - reduced_resolution_browse: https://landsatlook.usgs.gov/tile/collection02/oli-tirs/2020/CU/007/014/LC08_CU_007014_20201207_20210504_02/LC08_CU_007014_20201207_20210504_02_thumb_large.jpeg\n",
            "  - index: https://landsatlook.usgs.gov/stac-browser/collection02/oli-tirs/2020/CU/007/014/LC08_CU_007014_20201207_20210504_02/LC08_CU_007014_20201207_20210504_02\n",
            "  - coastal: https://landsatlook.usgs.gov/tile/collection02/oli-tirs/2020/CU/007/014/LC08_CU_007014_20201207_20210504_02/LC08_CU_007014_20201207_20210504_02_SR_B1.TIF\n",
            "  - blue: https://landsatlook.usgs.gov/tile/collection02/oli-tirs/2020/CU/007/014/LC08_CU_007014_20201207_20210504_02/LC08_CU_007014_20201207_20210504_02_SR_B2.TIF\n",
            "  - green: https://landsatlook.usgs.gov/tile/collection02/oli-tirs/2020/CU/007/014/LC08_CU_007014_20201207_20210504_02/LC08_CU_007014_20201207_20210504_02_SR_B3.TIF\n",
            "  - red: https://landsatlook.usgs.gov/tile/collection02/oli-tirs/2020/CU/007/014/LC08_CU_007014_20201207_20210504_02/LC08_CU_007014_20201207_20210504_02_SR_B4.TIF\n",
            "  - nir08: https://landsatlook.usgs.gov/tile/collection02/oli-tirs/2020/CU/007/014/LC08_CU_007014_20201207_20210504_02/LC08_CU_007014_20201207_20210504_02_SR_B5.TIF\n",
            "  - swir16: https://landsatlook.usgs.gov/tile/collection02/oli-tirs/2020/CU/007/014/LC08_CU_007014_20201207_20210504_02/LC08_CU_007014_20201207_20210504_02_SR_B6.TIF\n",
            "  - swir22: https://landsatlook.usgs.gov/tile/collection02/oli-tirs/2020/CU/007/014/LC08_CU_007014_20201207_20210504_02/LC08_CU_007014_20201207_20210504_02_SR_B7.TIF\n",
            "  - qa_aerosol: https://landsatlook.usgs.gov/tile/collection02/oli-tirs/2020/CU/007/014/LC08_CU_007014_20201207_20210504_02/LC08_CU_007014_20201207_20210504_02_SR_QA_AEROSOL.TIF\n",
            "  - qa_pixel: https://landsatlook.usgs.gov/tile/collection02/oli-tirs/2020/CU/007/014/LC08_CU_007014_20201207_20210504_02/LC08_CU_007014_20201207_20210504_02_QA_PIXEL.TIF\n",
            "  - qa_radsat: https://landsatlook.usgs.gov/tile/collection02/oli-tirs/2020/CU/007/014/LC08_CU_007014_20201207_20210504_02/LC08_CU_007014_20201207_20210504_02_QA_RADSAT.TIF\n",
            "  - qa_lineage: https://landsatlook.usgs.gov/tile/collection02/oli-tirs/2020/CU/007/014/LC08_CU_007014_20201207_20210504_02/LC08_CU_007014_20201207_20210504_02_QA_LINEAGE.TIF\n",
            "---------------------------------------------------\n"
          ]
        }
      ]
    },
    {
      "cell_type": "code",
      "source": [],
      "metadata": {
        "id": "Xu9wX-d1wJ4S"
      },
      "execution_count": null,
      "outputs": []
    },
    {
      "cell_type": "code",
      "source": [
        "cog_path = 'https://landsatlook.usgs.gov/tile/collection02/oli-tirs/2020/CU/007/014/LC08_CU_007014_20201207_20210504_02/LC08_CU_007014_20201207_20210504_02_SR_B6.TIF'"
      ],
      "metadata": {
        "id": "e5KAkX42vD27"
      },
      "execution_count": 45,
      "outputs": []
    },
    {
      "cell_type": "code",
      "source": [
        "save_path = '/content/STAC_test.tif'"
      ],
      "metadata": {
        "id": "29kjHj8KvRJ9"
      },
      "execution_count": 46,
      "outputs": []
    },
    {
      "cell_type": "code",
      "source": [
        "response = requests.get(cog_path)"
      ],
      "metadata": {
        "id": "UWeLIEZIvRG_"
      },
      "execution_count": 47,
      "outputs": []
    },
    {
      "cell_type": "code",
      "source": [
        "if response.status_code == 200:\n",
        "    # Write the content of the response to a file in the specified save path\n",
        "    with open(save_path, 'wb') as file:\n",
        "        file.write(response.content)\n",
        "    print(f\"File downloaded successfully: {save_path}\")\n",
        "else:\n",
        "    print(f\"Failed to download the file. Status code: {response.status_code}\")"
      ],
      "metadata": {
        "colab": {
          "base_uri": "https://localhost:8080/"
        },
        "id": "Dk9MHpVCyhJO",
        "outputId": "f35b7480-1b8e-463e-9f87-baa50b4808dc"
      },
      "execution_count": 48,
      "outputs": [
        {
          "output_type": "stream",
          "name": "stdout",
          "text": [
            "File downloaded successfully: /content/STAC_test.tif\n"
          ]
        }
      ]
    },
    {
      "cell_type": "code",
      "source": [
        "## Install libraries for visualization and analysis\n",
        "\n",
        "!pip install rasterio\n",
        "!pip install GDAL\n",
        "\n",
        "## bring the libraries into the environment\n",
        "import rasterio\n",
        "from rasterio.plot import show\n",
        "import matplotlib.pyplot as plt"
      ],
      "metadata": {
        "colab": {
          "base_uri": "https://localhost:8080/"
        },
        "id": "NDaRw0MQyhGX",
        "outputId": "6ad4e547-87b9-4610-9f4e-6b0f356edd9a"
      },
      "execution_count": 49,
      "outputs": [
        {
          "output_type": "stream",
          "name": "stdout",
          "text": [
            "Requirement already satisfied: rasterio in /usr/local/lib/python3.10/dist-packages (1.3.9)\n",
            "Requirement already satisfied: affine in /usr/local/lib/python3.10/dist-packages (from rasterio) (2.4.0)\n",
            "Requirement already satisfied: attrs in /usr/local/lib/python3.10/dist-packages (from rasterio) (23.2.0)\n",
            "Requirement already satisfied: certifi in /usr/local/lib/python3.10/dist-packages (from rasterio) (2024.2.2)\n",
            "Requirement already satisfied: click>=4.0 in /usr/local/lib/python3.10/dist-packages (from rasterio) (8.1.7)\n",
            "Requirement already satisfied: cligj>=0.5 in /usr/local/lib/python3.10/dist-packages (from rasterio) (0.7.2)\n",
            "Requirement already satisfied: numpy in /usr/local/lib/python3.10/dist-packages (from rasterio) (1.25.2)\n",
            "Requirement already satisfied: snuggs>=1.4.1 in /usr/local/lib/python3.10/dist-packages (from rasterio) (1.4.7)\n",
            "Requirement already satisfied: click-plugins in /usr/local/lib/python3.10/dist-packages (from rasterio) (1.1.1)\n",
            "Requirement already satisfied: setuptools in /usr/local/lib/python3.10/dist-packages (from rasterio) (67.7.2)\n",
            "Requirement already satisfied: pyparsing>=2.1.6 in /usr/local/lib/python3.10/dist-packages (from snuggs>=1.4.1->rasterio) (3.1.1)\n",
            "Requirement already satisfied: GDAL in /usr/local/lib/python3.10/dist-packages (3.6.4)\n"
          ]
        }
      ]
    },
    {
      "cell_type": "code",
      "source": [
        "# Set a variable containing the path of the imagery on your Colab disk\n",
        "image_path = '/content/STAC_test.tif'  # Replace with your file path"
      ],
      "metadata": {
        "id": "4_82mqNxyhD1"
      },
      "execution_count": 50,
      "outputs": []
    },
    {
      "cell_type": "code",
      "source": [
        "### Visualize the Satellite Imagery\n",
        "\n",
        "with rasterio.open(image_path) as src:\n",
        "    image = src.read(1)  # Display as false-color composite (show nir as red; show red as green; show green as blue)\n",
        "    # Read the first band (assuming it's a single band image)\n",
        "    band1 = src.read(1)\n",
        "\n",
        "    # Plot the image\n",
        "    plt.figure(figsize=(10, 10))\n",
        "    plt.imshow(band1, cmap='gray')\n",
        "    plt.title('Landsat Single Band Image')\n",
        "    plt.colorbar(label='Digital Number (DN) Values')\n",
        "    plt.show()\n"
      ],
      "metadata": {
        "colab": {
          "base_uri": "https://localhost:8080/",
          "height": 599
        },
        "id": "qEoBa_d-yhBJ",
        "outputId": "326adf30-cbba-4a20-c9ae-cf6a8766b7f5"
      },
      "execution_count": 53,
      "outputs": [
        {
          "output_type": "error",
          "ename": "RasterioIOError",
          "evalue": "'/content/STAC_test.tif' not recognized as a supported file format.",
          "traceback": [
            "\u001b[0;31m---------------------------------------------------------------------------\u001b[0m",
            "\u001b[0;31mCPLE_OpenFailedError\u001b[0m                      Traceback (most recent call last)",
            "\u001b[0;32mrasterio/_base.pyx\u001b[0m in \u001b[0;36mrasterio._base.DatasetBase.__init__\u001b[0;34m()\u001b[0m\n",
            "\u001b[0;32mrasterio/_base.pyx\u001b[0m in \u001b[0;36mrasterio._base.open_dataset\u001b[0;34m()\u001b[0m\n",
            "\u001b[0;32mrasterio/_err.pyx\u001b[0m in \u001b[0;36mrasterio._err.exc_wrap_pointer\u001b[0;34m()\u001b[0m\n",
            "\u001b[0;31mCPLE_OpenFailedError\u001b[0m: '/content/STAC_test.tif' not recognized as a supported file format.",
            "\nDuring handling of the above exception, another exception occurred:\n",
            "\u001b[0;31mRasterioIOError\u001b[0m                           Traceback (most recent call last)",
            "\u001b[0;32m<ipython-input-53-0ff719da8238>\u001b[0m in \u001b[0;36m<cell line: 3>\u001b[0;34m()\u001b[0m\n\u001b[1;32m      1\u001b[0m \u001b[0;31m### Visualize the Satellite Imagery\u001b[0m\u001b[0;34m\u001b[0m\u001b[0;34m\u001b[0m\u001b[0m\n\u001b[1;32m      2\u001b[0m \u001b[0;34m\u001b[0m\u001b[0m\n\u001b[0;32m----> 3\u001b[0;31m \u001b[0;32mwith\u001b[0m \u001b[0mrasterio\u001b[0m\u001b[0;34m.\u001b[0m\u001b[0mopen\u001b[0m\u001b[0;34m(\u001b[0m\u001b[0mimage_path\u001b[0m\u001b[0;34m)\u001b[0m \u001b[0;32mas\u001b[0m \u001b[0msrc\u001b[0m\u001b[0;34m:\u001b[0m\u001b[0;34m\u001b[0m\u001b[0;34m\u001b[0m\u001b[0m\n\u001b[0m\u001b[1;32m      4\u001b[0m     \u001b[0mimage\u001b[0m \u001b[0;34m=\u001b[0m \u001b[0msrc\u001b[0m\u001b[0;34m.\u001b[0m\u001b[0mread\u001b[0m\u001b[0;34m(\u001b[0m\u001b[0;36m1\u001b[0m\u001b[0;34m)\u001b[0m  \u001b[0;31m# Display as false-color composite (show nir as red; show red as green; show green as blue)\u001b[0m\u001b[0;34m\u001b[0m\u001b[0;34m\u001b[0m\u001b[0m\n\u001b[1;32m      5\u001b[0m     \u001b[0;31m# Read the first band (assuming it's a single band image)\u001b[0m\u001b[0;34m\u001b[0m\u001b[0;34m\u001b[0m\u001b[0m\n",
            "\u001b[0;32m/usr/local/lib/python3.10/dist-packages/rasterio/env.py\u001b[0m in \u001b[0;36mwrapper\u001b[0;34m(*args, **kwds)\u001b[0m\n\u001b[1;32m    449\u001b[0m \u001b[0;34m\u001b[0m\u001b[0m\n\u001b[1;32m    450\u001b[0m         \u001b[0;32mwith\u001b[0m \u001b[0menv_ctor\u001b[0m\u001b[0;34m(\u001b[0m\u001b[0msession\u001b[0m\u001b[0;34m=\u001b[0m\u001b[0msession\u001b[0m\u001b[0;34m)\u001b[0m\u001b[0;34m:\u001b[0m\u001b[0;34m\u001b[0m\u001b[0;34m\u001b[0m\u001b[0m\n\u001b[0;32m--> 451\u001b[0;31m             \u001b[0;32mreturn\u001b[0m \u001b[0mf\u001b[0m\u001b[0;34m(\u001b[0m\u001b[0;34m*\u001b[0m\u001b[0margs\u001b[0m\u001b[0;34m,\u001b[0m \u001b[0;34m**\u001b[0m\u001b[0mkwds\u001b[0m\u001b[0;34m)\u001b[0m\u001b[0;34m\u001b[0m\u001b[0;34m\u001b[0m\u001b[0m\n\u001b[0m\u001b[1;32m    452\u001b[0m \u001b[0;34m\u001b[0m\u001b[0m\n\u001b[1;32m    453\u001b[0m     \u001b[0;32mreturn\u001b[0m \u001b[0mwrapper\u001b[0m\u001b[0;34m\u001b[0m\u001b[0;34m\u001b[0m\u001b[0m\n",
            "\u001b[0;32m/usr/local/lib/python3.10/dist-packages/rasterio/__init__.py\u001b[0m in \u001b[0;36mopen\u001b[0;34m(fp, mode, driver, width, height, count, crs, transform, dtype, nodata, sharing, **kwargs)\u001b[0m\n\u001b[1;32m    302\u001b[0m \u001b[0;34m\u001b[0m\u001b[0m\n\u001b[1;32m    303\u001b[0m         \u001b[0;32mif\u001b[0m \u001b[0mmode\u001b[0m \u001b[0;34m==\u001b[0m \u001b[0;34m\"r\"\u001b[0m\u001b[0;34m:\u001b[0m\u001b[0;34m\u001b[0m\u001b[0;34m\u001b[0m\u001b[0m\n\u001b[0;32m--> 304\u001b[0;31m             \u001b[0mdataset\u001b[0m \u001b[0;34m=\u001b[0m \u001b[0mDatasetReader\u001b[0m\u001b[0;34m(\u001b[0m\u001b[0mpath\u001b[0m\u001b[0;34m,\u001b[0m \u001b[0mdriver\u001b[0m\u001b[0;34m=\u001b[0m\u001b[0mdriver\u001b[0m\u001b[0;34m,\u001b[0m \u001b[0msharing\u001b[0m\u001b[0;34m=\u001b[0m\u001b[0msharing\u001b[0m\u001b[0;34m,\u001b[0m \u001b[0;34m**\u001b[0m\u001b[0mkwargs\u001b[0m\u001b[0;34m)\u001b[0m\u001b[0;34m\u001b[0m\u001b[0;34m\u001b[0m\u001b[0m\n\u001b[0m\u001b[1;32m    305\u001b[0m         \u001b[0;32melif\u001b[0m \u001b[0mmode\u001b[0m \u001b[0;34m==\u001b[0m \u001b[0;34m\"r+\"\u001b[0m\u001b[0;34m:\u001b[0m\u001b[0;34m\u001b[0m\u001b[0;34m\u001b[0m\u001b[0m\n\u001b[1;32m    306\u001b[0m             dataset = get_writer_for_path(path, driver=driver)(\n",
            "\u001b[0;32mrasterio/_base.pyx\u001b[0m in \u001b[0;36mrasterio._base.DatasetBase.__init__\u001b[0;34m()\u001b[0m\n",
            "\u001b[0;31mRasterioIOError\u001b[0m: '/content/STAC_test.tif' not recognized as a supported file format."
          ]
        }
      ]
    }
  ]
}