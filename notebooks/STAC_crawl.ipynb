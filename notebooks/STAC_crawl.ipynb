{
  "nbformat": 4,
  "nbformat_minor": 0,
  "metadata": {
    "colab": {
      "provenance": [],
      "authorship_tag": "ABX9TyOjY9Z2C2u2yrYkHkZOrk5M",
      "include_colab_link": true
    },
    "kernelspec": {
      "name": "python3",
      "display_name": "Python 3"
    },
    "language_info": {
      "name": "python"
    }
  },
  "cells": [
    {
      "cell_type": "markdown",
      "metadata": {
        "id": "view-in-github",
        "colab_type": "text"
      },
      "source": [
        "<a href=\"https://colab.research.google.com/github/ua-datalab/Geospatial_Workshops/blob/main/notebooks/STAC_crawl.ipynb\" target=\"_parent\"><img src=\"https://colab.research.google.com/assets/colab-badge.svg\" alt=\"Open In Colab\"/></a>"
      ]
    },
    {
      "cell_type": "code",
      "execution_count": 2,
      "metadata": {
        "id": "Tjm8JImJqpig"
      },
      "outputs": [],
      "source": [
        "# Install pystac_client. This library is used to crawl SpatioTemporal Asset Catalogs (STAC)\n",
        "!pip install pystac_client --quiet\n",
        "!pip install planetary_computer --quiet"
      ]
    },
    {
      "cell_type": "code",
      "source": [
        "#Import the libraries into the current session\n",
        "\n",
        "import pystac_client\n",
        "import planetary_computer\n",
        "\n"
      ],
      "metadata": {
        "id": "j1mgkHQXq2Zz"
      },
      "execution_count": 3,
      "outputs": []
    },
    {
      "cell_type": "code",
      "source": [
        "#Use the pystac_client library to open the Planetary Computer STAC API\n",
        "\n",
        "catalog = pystac_client.Client.open(\n",
        "    \"https://planetarycomputer.microsoft.com/api/stac/v1\",\n",
        "    modifier=planetary_computer.sign_inplace,\n",
        ")"
      ],
      "metadata": {
        "id": "o19dpMN8lqnd"
      },
      "execution_count": 4,
      "outputs": []
    },
    {
      "cell_type": "code",
      "source": [
        "#Let's look at the collections within the root catalog\n",
        "collections = list(catalog.get_collections())\n",
        "\n",
        "# Print the number of collections\n",
        "print(f\"Number of collections in the base catalog: {len(collections)}\")"
      ],
      "metadata": {
        "id": "1-iYtjUcxeZ9"
      },
      "execution_count": null,
      "outputs": []
    },
    {
      "cell_type": "code",
      "source": [
        "# Print the names (or IDs) and descriptions of each collection\n",
        "for collection in collections:\n",
        "    print(f\"ID: {collection.id}\")\n",
        "    print(f\"Title: {collection.title}\")"
      ],
      "metadata": {
        "id": "_7VSiqNJocIY"
      },
      "execution_count": null,
      "outputs": []
    },
    {
      "cell_type": "code",
      "source": [
        "#Create a custom spatial and temporal filter to find assets of interest\n",
        "\n",
        "time_range = \"2020-12-01/2020-12-31\"\n",
        "bbox = [-122.2751, 47.5469, -121.9613, 47.7458] #SW corner longitude/latitude ; NE corner longitude/latitude"
      ],
      "metadata": {
        "id": "iHRCMduYnXrZ"
      },
      "execution_count": 7,
      "outputs": []
    },
    {
      "cell_type": "code",
      "source": [
        "#Search the 'Landsat Collection' to find imagery assets within my time-range and bounding box.\n",
        "\n",
        "search = catalog.search(collections=[\"landsat-c2-l2\"], bbox=bbox, datetime=time_range)\n",
        "items = search.get_all_items()\n",
        "len(items)\n",
        "\n"
      ],
      "metadata": {
        "id": "scfnloHoq9Qa"
      },
      "execution_count": null,
      "outputs": []
    },
    {
      "cell_type": "code",
      "source": [
        "##Display the items in a table and show their characteristics\n",
        "\n",
        "#Use geopandas to make the table. It is already installed in Colab notebook\n",
        "\n",
        "import geopandas\n",
        "\n",
        "df = geopandas.GeoDataFrame.from_features(items.to_dict(), crs=\"epsg:4326\")\n",
        "df"
      ],
      "metadata": {
        "id": "2IeEzivjrDKq"
      },
      "execution_count": null,
      "outputs": []
    },
    {
      "cell_type": "code",
      "source": [
        "##Filter to find the item with the lowest cloud cover\n",
        "\n",
        "selected_item = min(items, key=lambda item: item.properties[\"eo:cloud_cover\"])\n",
        "print(selected_item)"
      ],
      "metadata": {
        "id": "YNtgpdPqrIaD"
      },
      "execution_count": null,
      "outputs": []
    },
    {
      "cell_type": "code",
      "source": [
        "# List all the assets for the selected item\n",
        "\n",
        "import rich.table\n",
        "\n",
        "table = rich.table.Table(\"Asset Key\", \"Description\", \"Asset Type\" )\n",
        "for asset_key, asset in selected_item.assets.items():\n",
        "    table.add_row(asset_key, asset.title, asset.media_type)\n",
        "\n",
        "table"
      ],
      "metadata": {
        "id": "cvBFVZRlrLJL"
      },
      "execution_count": null,
      "outputs": []
    },
    {
      "cell_type": "code",
      "source": [
        "#Convert the 'rendered preview' asset into a dictionary\n",
        "\n",
        "selected_item.assets[\"rendered_preview\"].to_dict()"
      ],
      "metadata": {
        "id": "qQG9ID8vrNmU"
      },
      "execution_count": null,
      "outputs": []
    },
    {
      "cell_type": "code",
      "source": [
        "#Display the 'rendered preview' asset of the item\n",
        "\n",
        "from IPython.display import Image\n",
        "\n",
        "Image(url=selected_item.assets[\"rendered_preview\"].href, width=500)"
      ],
      "metadata": {
        "id": "qtNcgyyCrQuM"
      },
      "execution_count": null,
      "outputs": []
    },
    {
      "cell_type": "code",
      "source": [
        "#Get the API endpoint (url) of the 'blue' band asset.\n",
        "\n",
        "selected_item.assets[\"blue\"].href"
      ],
      "metadata": {
        "id": "hKheLwkUrjrv"
      },
      "execution_count": null,
      "outputs": []
    },
    {
      "cell_type": "code",
      "source": [
        "##Get some info from the asset without downloading it\n",
        "## Get response code, file type, file size\n",
        "## We are looking for HTTP status code of 200\n",
        "\n",
        "import requests\n",
        "\n",
        "# Send a HEAD request to get the headers of the file\n",
        "response = requests.head(selected_item.assets[\"blue\"].href)\n",
        "\n",
        "# Retrieve the status code\n",
        "status_code = response.status_code\n",
        "\n",
        "# Initialize variables for file type and size\n",
        "file_type = None\n",
        "file_size_mb = None\n",
        "\n",
        "# Check if the Content-Type header exists\n",
        "if 'Content-Type' in response.headers:\n",
        "    file_type = response.headers['Content-Type']\n",
        "\n",
        "# Check if the Content-Length header exists and convert it to megabytes\n",
        "if 'Content-Length' in response.headers:\n",
        "    file_size_bytes = int(response.headers['Content-Length'])\n",
        "    file_size_mb = file_size_bytes / (1024 * 1024)  # Convert bytes to megabytes\n",
        "\n",
        "print(f\"Status Code: {status_code}\")\n",
        "print(f\"File Type: {file_type}\")\n",
        "print(f\"File Size: {file_size_mb:.2f} MB\")\n"
      ],
      "metadata": {
        "id": "HGBt1KmZzTLL"
      },
      "execution_count": null,
      "outputs": []
    },
    {
      "cell_type": "code",
      "source": [
        "##Pull the selected asset (cloud optimized geotiff) into my notebook\n",
        "\n",
        "#install and import library for display\n",
        "!pip install rioxarray --quiet\n",
        "\n",
        "import rioxarray\n",
        "\n",
        "\n",
        "#Display the selected asset with coarser resolution.\n",
        "#The asset is a COG so it has overviews embedded\n",
        "\n",
        "ds = rioxarray.open_rasterio(\n",
        "    selected_item.assets[\"blue\"].href, overview_level=2\n",
        ").squeeze()\n",
        "img = ds.plot(cmap=\"viridis\", add_colorbar=False)\n",
        "img.axes.set_axis_off();"
      ],
      "metadata": {
        "id": "8_37wVYJuhte"
      },
      "execution_count": null,
      "outputs": []
    }
  ]
}