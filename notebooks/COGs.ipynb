{
  "nbformat": 4,
  "nbformat_minor": 0,
  "metadata": {
    "colab": {
      "provenance": [],
      "authorship_tag": "ABX9TyMPyEyqQqicWJ/alxPa1OEQ",
      "include_colab_link": true
    },
    "kernelspec": {
      "name": "python3",
      "display_name": "Python 3"
    },
    "language_info": {
      "name": "python"
    }
  },
  "cells": [
    {
      "cell_type": "markdown",
      "metadata": {
        "id": "view-in-github",
        "colab_type": "text"
      },
      "source": [
        "<a href=\"https://colab.research.google.com/github/ua-datalab/Geospatial_Workshops/blob/main/notebooks/COGs.ipynb\" target=\"_parent\"><img src=\"https://colab.research.google.com/assets/colab-badge.svg\" alt=\"Open In Colab\"/></a>"
      ]
    },
    {
      "cell_type": "markdown",
      "source": [
        "\n",
        "\n",
        "## This python notebook demonstrates the use of Cloud Optimized Geotiffs (COGs). It will show you how to stream a COG from cloud storage into a jupyter notebook and how to stream just a subset of the COG.\n",
        "\n",
        "Jeffrey Gillan, Data Science Institute, University of Arizona, 2024\n",
        "\n"
      ],
      "metadata": {
        "id": "sQZzwrrkGDzh"
      }
    },
    {
      "cell_type": "code",
      "execution_count": null,
      "metadata": {
        "id": "qkxnKEQDo0_n"
      },
      "outputs": [],
      "source": [
        "##Install library to work with raster images\n",
        "\n",
        "! pip install rasterio --quiet"
      ]
    },
    {
      "cell_type": "code",
      "source": [
        "#Bring libraries into the environment\n",
        "\n",
        "import rasterio\n",
        "from rasterio.plot import show\n",
        "import matplotlib.pyplot as plt\n",
        "import requests\n",
        "import numpy as np"
      ],
      "metadata": {
        "id": "vsZ_2bZ4pHou"
      },
      "execution_count": null,
      "outputs": []
    },
    {
      "cell_type": "code",
      "source": [
        "#Define the url to the Cloud-Optimized Geotiff (COG). It is located in Cyverse Cloud Storage\n",
        "\n",
        "cog_path = 'https://data.cyverse.org/dav-anon/iplant/home/jgillan/cog_test/planet_6sept2020_COG.tif'"
      ],
      "metadata": {
        "id": "xn6OTc5opJ0I"
      },
      "execution_count": null,
      "outputs": []
    },
    {
      "cell_type": "code",
      "source": [
        "##Get some basic information about the COG\n",
        "\n",
        "with rasterio.open(cog_path) as dataset:\n",
        "    # Now you can work with the dataset, e.g., read out specific bands, metadata, etc.\n",
        "    print(dataset.profile)  # Print the dataset profile, like CRS, bounds, etc."
      ],
      "metadata": {
        "id": "DEeckY7d4a-s"
      },
      "execution_count": null,
      "outputs": []
    },
    {
      "cell_type": "code",
      "source": [
        "##Retrieve the file size of the COG\n",
        "\n",
        "# Send an HTTP HEAD request\n",
        "response = requests.head(cog_path)\n",
        "\n",
        "if response.status_code == 200:\n",
        "    # Check if 'Content-Length' header is available\n",
        "    if 'Content-Length' in response.headers:\n",
        "        file_size_bytes = int(response.headers['Content-Length'])\n",
        "        print(f\"File Size: {file_size_bytes} bytes\")\n",
        "    else:\n",
        "        print(\"Content-Length header is not available.\")\n",
        "else:\n",
        "    print(f\"Failed to access the file. Status code: {response.status_code}\")"
      ],
      "metadata": {
        "id": "iwdwyGPN8v6z"
      },
      "execution_count": null,
      "outputs": []
    },
    {
      "cell_type": "code",
      "source": [
        "# Is it a COG?\n",
        "\n",
        "with rasterio.open(cog_path) as src:\n",
        "    # Check for internal tiling\n",
        "    tiled = src.is_tiled\n",
        "    print(f\"Tiled: {tiled}\")\n",
        "\n",
        "    # Check for overviews\n",
        "    overviews = src.overviews(1)  # Checks overviews for the first band\n",
        "    has_overviews = len(overviews) > 0\n",
        "    print(f\"Has Overviews: {has_overviews}\")"
      ],
      "metadata": {
        "id": "0_ImmE_xpJjX"
      },
      "execution_count": null,
      "outputs": []
    },
    {
      "cell_type": "markdown",
      "source": [
        "## Three Options Bring in Remote Data"
      ],
      "metadata": {
        "id": "JRpcFpa4Y3fW"
      }
    },
    {
      "cell_type": "markdown",
      "source": [
        "#### Download data to disk"
      ],
      "metadata": {
        "id": "-34Q-Yu7ZAZA"
      }
    },
    {
      "cell_type": "code",
      "source": [
        "# Perform a GET request to download the COG to the Colab disk (this is temporary!)\n",
        "response = requests.get(cog_path)\n",
        "\n",
        "# Check if the request was successful (status code 200)\n",
        "if response.status_code == 200:\n",
        "    # Open the local file in binary write mode and save the content of the COG\n",
        "    with open('cog_example.tif', 'wb') as f:\n",
        "        f.write(response.content)\n",
        "    print(\"COG downloaded successfully.\")\n",
        "else:\n",
        "    print(f\"Failed to download COG. Status code: {response.status_code}\")"
      ],
      "metadata": {
        "id": "fF19eZa5wWIB"
      },
      "execution_count": null,
      "outputs": []
    },
    {
      "cell_type": "markdown",
      "source": [
        "#### Read Entire Cog into Memory"
      ],
      "metadata": {
        "id": "y8_JUIIkZE94"
      }
    },
    {
      "cell_type": "code",
      "source": [
        "##Read in and display the entire COG. Large files require a lot of memory usage.\n",
        "\n",
        "with rasterio.open(cog_path) as dataset:\n",
        "    # Read the entire dataset\n",
        "    # This reads all bands; if the dataset is multi-band, they will be read into a 3D array\n",
        "    data = dataset.read()\n",
        "\n",
        "    # Display the image\n",
        "    # For simplicity, this example displays the first band.\n",
        "    plt.figure(figsize=(10, 10))\n",
        "    show(data[0], transform=dataset.transform)"
      ],
      "metadata": {
        "id": "LAVKJ_C8FUSB"
      },
      "execution_count": null,
      "outputs": []
    },
    {
      "cell_type": "markdown",
      "source": [
        "#### Stream a subset of the COG into Memory"
      ],
      "metadata": {
        "id": "pA_gZdA0ZQuR"
      }
    },
    {
      "cell_type": "code",
      "source": [
        "##Bring in and display a subset of the COG. This should require much less memory than the full image.\n",
        "\n",
        "\n",
        "# Create a subset (aka window) bounding box. Make sure to match the Coordinate Reference System of the data. Here we use UTM coordinates.\n",
        "utm_x1, utm_y1 = 521354, 3588540   # Lower left corner\n",
        "utm_x2, utm_y2 = 524074, 3590092   # Upper right corner\n",
        "\n",
        "\n",
        "with rasterio.open(cog_path) as dataset:\n",
        "    # Convert UTM coordinates to pixel coordinates\n",
        "    # Note: This assumes the dataset is in a UTM projection\n",
        "    px1, py1 = dataset.index(utm_x1, utm_y1)\n",
        "    px2, py2 = dataset.index(utm_x2, utm_y2)\n",
        "\n",
        "    # Create a window from the pixel coordinates\n",
        "    # Note: min/max functions ensure the coordinates are ordered correctly\n",
        "    window = rasterio.windows.Window.from_slices((min(px1, px2), max(px1, px2)), (min(py1, py2), max(py1, py2)))\n",
        "\n",
        "    # Read the data within the window\n",
        "    subset = dataset.read(window=window)\n",
        "\n",
        "    # Display the image showing band 1\n",
        "    plt.figure(figsize=(10, 10))\n",
        "    show(subset[0], transform=dataset.window_transform(window))\n",
        "\n",
        "    print(f\"CRS: {dataset.crs}\")\n",
        "    print(f\"Width: {window.width}, Height: {window.height}\")\n",
        "    print(f\"Data Type: {dataset.dtypes[0]}\")"
      ],
      "metadata": {
        "id": "78_1FTrh6kl_"
      },
      "execution_count": null,
      "outputs": []
    },
    {
      "cell_type": "code",
      "source": [
        "#Display the COG subset multi-band image\n",
        "\n",
        "# Function to normalize the bands\n",
        "def normalize(array):\n",
        "    \"\"\"Normalizes numpy arrays into scale 0.0 - 1.0\"\"\"\n",
        "    array_min, array_max = array.min(), array.max()\n",
        "    return (array - array_min) / (array_max - array_min)\n",
        "\n",
        "# Create a subset (aka window) bounding box. Make sure to match the CRS of the data. Here we use UTM coordinates.\n",
        "utm_x1, utm_y1 = 521354, 3588540   # Lower left corner\n",
        "utm_x2, utm_y2 = 524074, 3590092   # Upper right corner\n",
        "\n",
        "with rasterio.open(cog_path) as dataset:\n",
        "    # Convert UTM coordinates to pixel coordinates\n",
        "    px1, py1 = dataset.index(utm_x1, utm_y1)\n",
        "    px2, py2 = dataset.index(utm_x2, utm_y2)\n",
        "\n",
        "    # Create a window from the pixel coordinates\n",
        "    window = rasterio.windows.Window.from_slices((min(px1, px2), max(px1, px2)), (min(py1, py2), max(py1, py2)))\n",
        "\n",
        "    # Read red, green, blue bands to make an RGB composite\n",
        "    rgb_bands = dataset.read([3, 2, 1], window=window)\n",
        "\n",
        "    # Normalize each band\n",
        "    rgb_normalized = np.zeros(rgb_bands.shape, dtype=np.float32)\n",
        "    for band in range(rgb_bands.shape[0]):\n",
        "        rgb_normalized[band] = normalize(rgb_bands[band])\n",
        "\n",
        "    # Transpose the array to get it into (height, width, bands) shape\n",
        "    rgb_normalized = np.transpose(rgb_normalized, axes=(1, 2, 0))\n",
        "\n",
        "    # Display the RGB image\n",
        "    plt.figure(figsize=(10, 10))\n",
        "    plt.imshow(rgb_normalized)\n",
        "    plt.title('Normalized RGB Composite')\n",
        "    plt.axis('off')  # Remove axis ticks and labels\n",
        "    plt.show()\n",
        "\n",
        "    print(f\"CRS: {dataset.crs}\")\n",
        "    print(f\"Width: {window.width}, Height: {window.height}\")\n",
        "    print(f\"Data Type: {dataset.dtypes[0]}\")"
      ],
      "metadata": {
        "id": "3ruWZv_ZmRxD"
      },
      "execution_count": null,
      "outputs": []
    },
    {
      "cell_type": "code",
      "source": [
        "## Calculate an NDVI on the satellite imagery for just the subset\n",
        "\n",
        "# Assuming 'data' is a numpy array with shape (4, height, width)\n",
        "# where the bands are ordered as (Blue, Green, Red, NIR)\n",
        "\n",
        "# Extract the Red and NIR bands\n",
        "red = subset[2, :, :]  # Assuming the third band is Red\n",
        "nir = subset[3, :, :]  # Assuming the fourth band is NIR\n",
        "\n",
        "# Calculate NDVI\n",
        "# Note: It's important to convert the bands to float to avoid integer overflow issues\n",
        "# and ensure proper division\n",
        "ndvi = (nir.astype(float) - red.astype(float)) / (nir + red + 1e-10)  # 1e-10 to avoid division by zero\n",
        "\n",
        "# Display the NDVI\n",
        "plt.figure(figsize=(10, 10))\n",
        "plt.imshow(ndvi, cmap='RdYlGn')\n",
        "plt.colorbar(label='NDVI')\n",
        "plt.axis('off')  # Optional: removes the axis and labels\n",
        "plt.show()"
      ],
      "metadata": {
        "id": "fZCK753wDlbj"
      },
      "execution_count": null,
      "outputs": []
    },
    {
      "cell_type": "code",
      "source": [
        "#Save the ndvi subset image to disk\n",
        "\n",
        "# Create a new GeoTIFF file with the same metadata as the original dataset\n",
        "with rasterio.open('ndvi_image.tif', 'w',\n",
        "                  driver='GTiff',\n",
        "                  height=ndvi.shape[0],\n",
        "                  width=ndvi.shape[1],\n",
        "                  count=1,  # We only have 1 band (NDVI)\n",
        "                  dtype=ndvi.dtype,\n",
        "                  crs=dataset.crs,\n",
        "                  transform=dataset.window_transform(window)) as dst:\n",
        "    # Write the NDVI data to the new file\n",
        "    dst.write(ndvi, 1)\n",
        "\n",
        "print(\"NDVI image saved as ndvi_image.tif\")\n"
      ],
      "metadata": {
        "id": "0K5euRNcV6x5"
      },
      "execution_count": null,
      "outputs": []
    }
  ]
}